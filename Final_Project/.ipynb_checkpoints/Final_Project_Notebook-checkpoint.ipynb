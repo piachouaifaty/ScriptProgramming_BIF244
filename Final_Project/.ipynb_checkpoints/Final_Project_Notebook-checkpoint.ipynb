{
 "cells": [
  {
   "cell_type": "code",
   "execution_count": 25,
   "metadata": {},
   "outputs": [],
   "source": [
    "import numpy as np\n",
    "import pandas as pd\n",
    "import os"
   ]
  },
  {
   "cell_type": "code",
   "execution_count": 58,
   "metadata": {},
   "outputs": [
    {
     "name": "stdout",
     "output_type": "stream",
     "text": [
      "['HCN1', 'HCN2', 'KCNA1', 'KCNA2', 'KCNS3', 'KIR3']\n"
     ]
    }
   ],
   "source": [
    "#FASTA file parser code\n",
    "\n",
    "file=\"FinalProject.fasta\"\n",
    "\n",
    "f=open(file)\n",
    "sequence_names=[]\n",
    "sequences=[]\n",
    "count=0\n",
    "seq=\"\"\n",
    "\n",
    "for line in f:\n",
    "    if line.startswith(\">\"):\n",
    "        sequence_names.append(line[1:].strip()) #to remove the > and \\n\n",
    "        count=count+1\n",
    "        sequences.append(\"\") #initializing the slot for the sequence\n",
    "    elif not line.startswith('#') and line!=\"\":\n",
    "        sequences[count-1]=sequences[count-1]+line.strip().replace('-',\"\")\n",
    "\n",
    "#FastaEntry tuple contains the sequence ID and the sequence\n",
    "print(sequence_names)\n"
   ]
  },
  {
   "cell_type": "code",
   "execution_count": null,
   "metadata": {},
   "outputs": [],
   "source": []
  }
 ],
 "metadata": {
  "kernelspec": {
   "display_name": "Python 3",
   "language": "python",
   "name": "python3"
  },
  "language_info": {
   "codemirror_mode": {
    "name": "ipython",
    "version": 3
   },
   "file_extension": ".py",
   "mimetype": "text/x-python",
   "name": "python",
   "nbconvert_exporter": "python",
   "pygments_lexer": "ipython3",
   "version": "3.8.5"
  }
 },
 "nbformat": 4,
 "nbformat_minor": 4
}
