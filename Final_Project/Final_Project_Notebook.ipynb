{
 "cells": [
  {
   "cell_type": "markdown",
   "metadata": {},
   "source": [
    "# Part I:\n",
    "## 1.A. Scratch code & testing\n",
    "Below is the code as I was writing it. Section 1.B. contains the entire code in a single cell with user input (section 1.A is only testing)"
   ]
  },
  {
   "cell_type": "code",
   "execution_count": 328,
   "metadata": {},
   "outputs": [],
   "source": [
    "import numpy as np\n",
    "import pandas as pd\n",
    "import os\n",
    "import re\n",
    "from statistics import mean\n",
    "from itertools import islice"
   ]
  },
  {
   "cell_type": "code",
   "execution_count": 270,
   "metadata": {},
   "outputs": [],
   "source": [
    "#FASTA file parser code\n",
    "\n",
    "file=\"FinalProject.fasta\"\n",
    "\n",
    "f=open(file)\n",
    "sequence_names=[]\n",
    "sequences=[]\n",
    "count=0\n",
    "seq=\"\"\n",
    "\n",
    "for line in f:\n",
    "    if line.startswith(\">\"):\n",
    "        sequence_names.append(line[1:].strip()) #to remove the > and \\n\n",
    "        count=count+1\n",
    "        sequences.append(\"\") #initializing the slot for the sequence\n",
    "    elif not line.startswith('#') and line!=\"\":\n",
    "        sequences[count-1]=sequences[count-1]+line.strip().replace('-',\"\")\n",
    "\n",
    "f.close()\n",
    "\n",
    "#initialize data\n",
    "data = {'ID':sequence_names,\n",
    "        'Sequence':sequences}\n",
    "  \n",
    "#dataframe\n",
    "dfseq = pd.DataFrame(data)\n",
    "\n",
    "#print\n",
    "dfseq\n",
    "dfseq=dfseq.set_index('ID')"
   ]
  },
  {
   "cell_type": "code",
   "execution_count": 271,
   "metadata": {},
   "outputs": [
    {
     "data": {
      "text/plain": [
       "6"
      ]
     },
     "execution_count": 271,
     "metadata": {},
     "output_type": "execute_result"
    }
   ],
   "source": [
    "#number of sequences in file\n",
    "len(dfseq)"
   ]
  },
  {
   "cell_type": "code",
   "execution_count": 272,
   "metadata": {},
   "outputs": [
    {
     "data": {
      "text/html": [
       "<div>\n",
       "<style scoped>\n",
       "    .dataframe tbody tr th:only-of-type {\n",
       "        vertical-align: middle;\n",
       "    }\n",
       "\n",
       "    .dataframe tbody tr th {\n",
       "        vertical-align: top;\n",
       "    }\n",
       "\n",
       "    .dataframe thead th {\n",
       "        text-align: right;\n",
       "    }\n",
       "</style>\n",
       "<table border=\"1\" class=\"dataframe\">\n",
       "  <thead>\n",
       "    <tr style=\"text-align: right;\">\n",
       "      <th></th>\n",
       "      <th>Sequence</th>\n",
       "      <th>Primer</th>\n",
       "      <th>Exons</th>\n",
       "      <th>Introns</th>\n",
       "    </tr>\n",
       "    <tr>\n",
       "      <th>ID</th>\n",
       "      <th></th>\n",
       "      <th></th>\n",
       "      <th></th>\n",
       "      <th></th>\n",
       "    </tr>\n",
       "  </thead>\n",
       "  <tbody>\n",
       "    <tr>\n",
       "      <th>HCN1</th>\n",
       "      <td>gccgaggggaggcgctggggcgcgagggctGAGCCGAGCTGAGCCT...</td>\n",
       "      <td>gccgaggggaggcgctggggcgcgagggct</td>\n",
       "      <td>[GAGCCGAGCTGAGCCTCGCCTAGCTCCGGCAGCCTCAGCTTCAGC...</td>\n",
       "      <td>[gtgagggctcccggtcgccgccccaccctcccttcaggcgcgccc...</td>\n",
       "    </tr>\n",
       "    <tr>\n",
       "      <th>HCN2</th>\n",
       "      <td>ccgccccgccccgcccccgcctcccccctCCCTCGGGCTCCGGCCG...</td>\n",
       "      <td>ccgccccgccccgcccccgcctcccccct</td>\n",
       "      <td>[CCCTCGGGCTCCGGCCGGCGGCGGCGGCGGCGGCTCCGCTCCGCA...</td>\n",
       "      <td>[gtaccgcctccgggagggccggtcggcgcgagggggcccggggag...</td>\n",
       "    </tr>\n",
       "    <tr>\n",
       "      <th>KCNA1</th>\n",
       "      <td>gggctgcgcttcgagacgcagctcaagaccCTGGCGCAGTTCCCCA...</td>\n",
       "      <td>gggctgcgcttcgagacgcagctcaagacc</td>\n",
       "      <td>[CTGGCGCAGTTCCCCAACACGCTGCTGGGCAACCCTAAGAAACGC...</td>\n",
       "      <td>[gtaagcatgtttgaatctgatacaatttattttataatcgcatgc...</td>\n",
       "    </tr>\n",
       "    <tr>\n",
       "      <th>KCNA2</th>\n",
       "      <td>agcgctgaccaagaaaggaagtggtgatggGGCACATAGAAGAGTG...</td>\n",
       "      <td>agcgctgaccaagaaaggaagtggtgatgg</td>\n",
       "      <td>[GGCACATAGAAGAGTGAGCCATCATCTGGTTTCCAGCGCCAAGAC...</td>\n",
       "      <td>[gtgagagaagaggaggggcagcaagggtgagcatgcatgtgtgga...</td>\n",
       "    </tr>\n",
       "    <tr>\n",
       "      <th>KCNS3</th>\n",
       "      <td>cctcgctctagcggggcgggaccgacggacAGACCGGCCGACGCGG...</td>\n",
       "      <td>cctcgctctagcggggcgggaccgacggac</td>\n",
       "      <td>[AGACCGGCCGACGCGGGCCACCCCGCTCTCCTCGCCGCCGCGGCG...</td>\n",
       "      <td>[gtacctggctggcgtccccacctccctgcgcgctccggagacttc...</td>\n",
       "    </tr>\n",
       "    <tr>\n",
       "      <th>KIR3</th>\n",
       "      <td>gcgcggccgcctgtctgcaccggcagcaccATGTCGCTCATGGTCG...</td>\n",
       "      <td>gcgcggccgcctgtctgcaccggcagcacc</td>\n",
       "      <td>[ATGTCGCTCATGGTCGTCAGCATGGCGTGTGTTG, GAGTCCACA...</td>\n",
       "      <td>[gtgagtcctggaaaggaatagagggagggagtgccacatcctcct...</td>\n",
       "    </tr>\n",
       "  </tbody>\n",
       "</table>\n",
       "</div>"
      ],
      "text/plain": [
       "                                                Sequence  \\\n",
       "ID                                                         \n",
       "HCN1   gccgaggggaggcgctggggcgcgagggctGAGCCGAGCTGAGCCT...   \n",
       "HCN2   ccgccccgccccgcccccgcctcccccctCCCTCGGGCTCCGGCCG...   \n",
       "KCNA1  gggctgcgcttcgagacgcagctcaagaccCTGGCGCAGTTCCCCA...   \n",
       "KCNA2  agcgctgaccaagaaaggaagtggtgatggGGCACATAGAAGAGTG...   \n",
       "KCNS3  cctcgctctagcggggcgggaccgacggacAGACCGGCCGACGCGG...   \n",
       "KIR3   gcgcggccgcctgtctgcaccggcagcaccATGTCGCTCATGGTCG...   \n",
       "\n",
       "                               Primer  \\\n",
       "ID                                      \n",
       "HCN1   gccgaggggaggcgctggggcgcgagggct   \n",
       "HCN2    ccgccccgccccgcccccgcctcccccct   \n",
       "KCNA1  gggctgcgcttcgagacgcagctcaagacc   \n",
       "KCNA2  agcgctgaccaagaaaggaagtggtgatgg   \n",
       "KCNS3  cctcgctctagcggggcgggaccgacggac   \n",
       "KIR3   gcgcggccgcctgtctgcaccggcagcacc   \n",
       "\n",
       "                                                   Exons  \\\n",
       "ID                                                         \n",
       "HCN1   [GAGCCGAGCTGAGCCTCGCCTAGCTCCGGCAGCCTCAGCTTCAGC...   \n",
       "HCN2   [CCCTCGGGCTCCGGCCGGCGGCGGCGGCGGCGGCTCCGCTCCGCA...   \n",
       "KCNA1  [CTGGCGCAGTTCCCCAACACGCTGCTGGGCAACCCTAAGAAACGC...   \n",
       "KCNA2  [GGCACATAGAAGAGTGAGCCATCATCTGGTTTCCAGCGCCAAGAC...   \n",
       "KCNS3  [AGACCGGCCGACGCGGGCCACCCCGCTCTCCTCGCCGCCGCGGCG...   \n",
       "KIR3   [ATGTCGCTCATGGTCGTCAGCATGGCGTGTGTTG, GAGTCCACA...   \n",
       "\n",
       "                                                 Introns  \n",
       "ID                                                        \n",
       "HCN1   [gtgagggctcccggtcgccgccccaccctcccttcaggcgcgccc...  \n",
       "HCN2   [gtaccgcctccgggagggccggtcggcgcgagggggcccggggag...  \n",
       "KCNA1  [gtaagcatgtttgaatctgatacaatttattttataatcgcatgc...  \n",
       "KCNA2  [gtgagagaagaggaggggcagcaagggtgagcatgcatgtgtgga...  \n",
       "KCNS3  [gtacctggctggcgtccccacctccctgcgcgctccggagacttc...  \n",
       "KIR3   [gtgagtcctggaaaggaatagagggagggagtgccacatcctcct...  "
      ]
     },
     "execution_count": 272,
     "metadata": {},
     "output_type": "execute_result"
    }
   ],
   "source": [
    "#extracting primers, introns, and exons, and storing then in pandas dataframe\n",
    "primers=[]\n",
    "exons=[]\n",
    "introns=[]\n",
    "\n",
    "for i in range(0, len(dfseq)):\n",
    "    p=re.findall('[a-z]+', dfseq.Sequence[i])[0] #the first lowercase is the primer\n",
    "    primers.append(p)\n",
    "    \n",
    "    ex=re.findall('[A-Z]+', dfseq.Sequence[i]) #all uppercases are exons\n",
    "    exons.append(ex)\n",
    "    \n",
    "    intr=re.findall('[a-z]+', dfseq.Sequence[i])[1:-1] #all lowercases are introns: exclude upperstream and lowerstream\n",
    "    introns.append(intr)\n",
    "    \n",
    "#adding primer, exons and introns to the dataframe\n",
    "dfseq['Primer']=primers\n",
    "dfseq['Exons']=exons\n",
    "dfseq['Introns']=introns\n",
    "\n",
    "#dataframe with seq ID and all its corresponding information\n",
    "dfseq"
   ]
  },
  {
   "cell_type": "code",
   "execution_count": 273,
   "metadata": {},
   "outputs": [
    {
     "data": {
      "text/html": [
       "<div>\n",
       "<style scoped>\n",
       "    .dataframe tbody tr th:only-of-type {\n",
       "        vertical-align: middle;\n",
       "    }\n",
       "\n",
       "    .dataframe tbody tr th {\n",
       "        vertical-align: top;\n",
       "    }\n",
       "\n",
       "    .dataframe thead th {\n",
       "        text-align: right;\n",
       "    }\n",
       "</style>\n",
       "<table border=\"1\" class=\"dataframe\">\n",
       "  <thead>\n",
       "    <tr style=\"text-align: right;\">\n",
       "      <th></th>\n",
       "      <th>Sequence</th>\n",
       "      <th>Primer</th>\n",
       "      <th>Exons</th>\n",
       "      <th>Introns</th>\n",
       "    </tr>\n",
       "    <tr>\n",
       "      <th>ID</th>\n",
       "      <th></th>\n",
       "      <th></th>\n",
       "      <th></th>\n",
       "      <th></th>\n",
       "    </tr>\n",
       "  </thead>\n",
       "  <tbody>\n",
       "    <tr>\n",
       "      <th>HCN1</th>\n",
       "      <td>gccgaggggaggcgctggggcgcgagggctGAGCCGAGCTGAGCCT...</td>\n",
       "      <td>gccgaggggaggcgctggggcgcgagggct</td>\n",
       "      <td>[GAGCCGAGCTGAGCCTCGCCTAGCTCCGGCAGCCTCAGCTTCAGC...</td>\n",
       "      <td>[gtgagggctcccggtcgccgccccaccctcccttcaggcgcgccc...</td>\n",
       "    </tr>\n",
       "    <tr>\n",
       "      <th>HCN2</th>\n",
       "      <td>ccgccccgccccgcccccgcctcccccctCCCTCGGGCTCCGGCCG...</td>\n",
       "      <td>ccgccccgccccgcccccgcctcccccct</td>\n",
       "      <td>[CCCTCGGGCTCCGGCCGGCGGCGGCGGCGGCGGCTCCGCTCCGCA...</td>\n",
       "      <td>[gtaccgcctccgggagggccggtcggcgcgagggggcccggggag...</td>\n",
       "    </tr>\n",
       "    <tr>\n",
       "      <th>KCNA1</th>\n",
       "      <td>gggctgcgcttcgagacgcagctcaagaccCTGGCGCAGTTCCCCA...</td>\n",
       "      <td>gggctgcgcttcgagacgcagctcaagacc</td>\n",
       "      <td>[CTGGCGCAGTTCCCCAACACGCTGCTGGGCAACCCTAAGAAACGC...</td>\n",
       "      <td>[gtaagcatgtttgaatctgatacaatttattttataatcgcatgc...</td>\n",
       "    </tr>\n",
       "    <tr>\n",
       "      <th>KCNA2</th>\n",
       "      <td>agcgctgaccaagaaaggaagtggtgatggGGCACATAGAAGAGTG...</td>\n",
       "      <td>agcgctgaccaagaaaggaagtggtgatgg</td>\n",
       "      <td>[GGCACATAGAAGAGTGAGCCATCATCTGGTTTCCAGCGCCAAGAC...</td>\n",
       "      <td>[gtgagagaagaggaggggcagcaagggtgagcatgcatgtgtgga...</td>\n",
       "    </tr>\n",
       "    <tr>\n",
       "      <th>KCNS3</th>\n",
       "      <td>cctcgctctagcggggcgggaccgacggacAGACCGGCCGACGCGG...</td>\n",
       "      <td>cctcgctctagcggggcgggaccgacggac</td>\n",
       "      <td>[AGACCGGCCGACGCGGGCCACCCCGCTCTCCTCGCCGCCGCGGCG...</td>\n",
       "      <td>[gtacctggctggcgtccccacctccctgcgcgctccggagacttc...</td>\n",
       "    </tr>\n",
       "    <tr>\n",
       "      <th>KIR3</th>\n",
       "      <td>gcgcggccgcctgtctgcaccggcagcaccATGTCGCTCATGGTCG...</td>\n",
       "      <td>gcgcggccgcctgtctgcaccggcagcacc</td>\n",
       "      <td>[ATGTCGCTCATGGTCGTCAGCATGGCGTGTGTTG, GAGTCCACA...</td>\n",
       "      <td>[gtgagtcctggaaaggaatagagggagggagtgccacatcctcct...</td>\n",
       "    </tr>\n",
       "  </tbody>\n",
       "</table>\n",
       "</div>"
      ],
      "text/plain": [
       "                                                Sequence  \\\n",
       "ID                                                         \n",
       "HCN1   gccgaggggaggcgctggggcgcgagggctGAGCCGAGCTGAGCCT...   \n",
       "HCN2   ccgccccgccccgcccccgcctcccccctCCCTCGGGCTCCGGCCG...   \n",
       "KCNA1  gggctgcgcttcgagacgcagctcaagaccCTGGCGCAGTTCCCCA...   \n",
       "KCNA2  agcgctgaccaagaaaggaagtggtgatggGGCACATAGAAGAGTG...   \n",
       "KCNS3  cctcgctctagcggggcgggaccgacggacAGACCGGCCGACGCGG...   \n",
       "KIR3   gcgcggccgcctgtctgcaccggcagcaccATGTCGCTCATGGTCG...   \n",
       "\n",
       "                               Primer  \\\n",
       "ID                                      \n",
       "HCN1   gccgaggggaggcgctggggcgcgagggct   \n",
       "HCN2    ccgccccgccccgcccccgcctcccccct   \n",
       "KCNA1  gggctgcgcttcgagacgcagctcaagacc   \n",
       "KCNA2  agcgctgaccaagaaaggaagtggtgatgg   \n",
       "KCNS3  cctcgctctagcggggcgggaccgacggac   \n",
       "KIR3   gcgcggccgcctgtctgcaccggcagcacc   \n",
       "\n",
       "                                                   Exons  \\\n",
       "ID                                                         \n",
       "HCN1   [GAGCCGAGCTGAGCCTCGCCTAGCTCCGGCAGCCTCAGCTTCAGC...   \n",
       "HCN2   [CCCTCGGGCTCCGGCCGGCGGCGGCGGCGGCGGCTCCGCTCCGCA...   \n",
       "KCNA1  [CTGGCGCAGTTCCCCAACACGCTGCTGGGCAACCCTAAGAAACGC...   \n",
       "KCNA2  [GGCACATAGAAGAGTGAGCCATCATCTGGTTTCCAGCGCCAAGAC...   \n",
       "KCNS3  [AGACCGGCCGACGCGGGCCACCCCGCTCTCCTCGCCGCCGCGGCG...   \n",
       "KIR3   [ATGTCGCTCATGGTCGTCAGCATGGCGTGTGTTG, GAGTCCACA...   \n",
       "\n",
       "                                                 Introns  \n",
       "ID                                                        \n",
       "HCN1   [gtgagggctcccggtcgccgccccaccctcccttcaggcgcgccc...  \n",
       "HCN2   [gtaccgcctccgggagggccggtcggcgcgagggggcccggggag...  \n",
       "KCNA1  [gtaagcatgtttgaatctgatacaatttattttataatcgcatgc...  \n",
       "KCNA2  [gtgagagaagaggaggggcagcaagggtgagcatgcatgtgtgga...  \n",
       "KCNS3  [gtacctggctggcgtccccacctccctgcgcgctccggagacttc...  \n",
       "KIR3   [gtgagtcctggaaaggaatagagggagggagtgccacatcctcct...  "
      ]
     },
     "execution_count": 273,
     "metadata": {},
     "output_type": "execute_result"
    }
   ],
   "source": [
    "dfseq"
   ]
  },
  {
   "cell_type": "code",
   "execution_count": null,
   "metadata": {},
   "outputs": [],
   "source": [
    "#FUNCTIONS (to be used with dataframe.apply)\n",
    "\n",
    "#function that returns average string length in a list of strings\n",
    "#uses mean from statistics package\n",
    "\n",
    "def avgstrlen(list):\n",
    "    return mean([len(i) for i in list])\n",
    "\n",
    "#function that calculates the percentage occurence of a letter in a list of strings\n",
    "\n",
    "def occurencepercentage(letter, list):\n",
    "    str=''.join(list).upper() #case insensitive, join list elements into a single string\n",
    "    freq=str.count(letter.upper()) #occurence of letter in string\n",
    "    perc=100*(float(freq)/float(len(str))) #percentage\n",
    "    return perc\n",
    "\n",
    "#functions that calculate percentage occurence of each nucleotide (to be used with apply)\n",
    "def occurenceA(list):\n",
    "    return occurencepercentage('A', list)\n",
    "\n",
    "def occurenceG(list):\n",
    "    return occurencepercentage('G', list)\n",
    "\n",
    "def occurenceC(list):\n",
    "    return occurencepercentage('C', list)\n",
    "\n",
    "def occurenceT(list):\n",
    "    return occurencepercentage('T', list)"
   ]
  },
  {
   "cell_type": "code",
   "execution_count": 220,
   "metadata": {},
   "outputs": [
    {
     "data": {
      "text/plain": [
       "ID\n",
       "HCN1     7\n",
       "HCN2     7\n",
       "KCNA1    1\n",
       "KCNA2    4\n",
       "KCNS3    2\n",
       "KIR3     2\n",
       "Name: Introns, dtype: int64"
      ]
     },
     "execution_count": 220,
     "metadata": {},
     "output_type": "execute_result"
    }
   ],
   "source": [
    "#number of introns\n",
    "dfseq['Introns'].apply(len)"
   ]
  },
  {
   "cell_type": "code",
   "execution_count": 199,
   "metadata": {},
   "outputs": [
    {
     "data": {
      "text/plain": [
       "ID\n",
       "HCN1     8\n",
       "HCN2     8\n",
       "KCNA1    2\n",
       "KCNA2    5\n",
       "KCNS3    3\n",
       "KIR3     3\n",
       "Name: Exons, dtype: int64"
      ]
     },
     "execution_count": 199,
     "metadata": {},
     "output_type": "execute_result"
    }
   ],
   "source": [
    "#number of exons\n",
    "dfseq['Exons'].apply(len)"
   ]
  },
  {
   "cell_type": "code",
   "execution_count": 201,
   "metadata": {},
   "outputs": [
    {
     "data": {
      "text/plain": [
       "ID\n",
       "HCN1     61642.857143\n",
       "HCN2      3408.428571\n",
       "KCNA1     4062.000000\n",
       "KCNA2     8984.000000\n",
       "KCNS3    25975.500000\n",
       "KIR3      1668.000000\n",
       "Name: Introns, dtype: float64"
      ]
     },
     "execution_count": 201,
     "metadata": {},
     "output_type": "execute_result"
    }
   ],
   "source": [
    "#average intron length per sequence\n",
    "dfseq['Introns'].apply(avgstrlen)"
   ]
  },
  {
   "cell_type": "code",
   "execution_count": 202,
   "metadata": {},
   "outputs": [
    {
     "data": {
      "text/plain": [
       "ID\n",
       "HCN1     1241.625000\n",
       "HCN2      427.500000\n",
       "KCNA1    1309.000000\n",
       "KCNA2     391.800000\n",
       "KCNS3     780.333333\n",
       "KIR3      209.333333\n",
       "Name: Exons, dtype: float64"
      ]
     },
     "execution_count": 202,
     "metadata": {},
     "output_type": "execute_result"
    }
   ],
   "source": [
    "#average exon length per sequence\n",
    "dfseq['Exons'].apply(avgstrlen)"
   ]
  },
  {
   "cell_type": "code",
   "execution_count": 207,
   "metadata": {},
   "outputs": [
    {
     "data": {
      "text/plain": [
       "ID\n",
       "HCN1     16.936732\n",
       "HCN2     28.710340\n",
       "KCNA1    20.827179\n",
       "KCNA2    23.216273\n",
       "KCNS3    19.254682\n",
       "KIR3     20.233813\n",
       "Name: Introns, dtype: float64"
      ]
     },
     "execution_count": 207,
     "metadata": {},
     "output_type": "execute_result"
    }
   ],
   "source": [
    "d=dfseq['Introns'].apply(occurenceC)\n",
    "d"
   ]
  },
  {
   "cell_type": "code",
   "execution_count": 208,
   "metadata": {},
   "outputs": [
    {
     "data": {
      "text/plain": [
       "16.936732329084588"
      ]
     },
     "execution_count": 208,
     "metadata": {},
     "output_type": "execute_result"
    }
   ],
   "source": [
    "d[0]"
   ]
  },
  {
   "cell_type": "code",
   "execution_count": 226,
   "metadata": {},
   "outputs": [
    {
     "data": {
      "text/plain": [
       "['HCN1', 'HCN2', 'KCNA1', 'KCNA2', 'KCNS3', 'KIR3']"
      ]
     },
     "execution_count": 226,
     "metadata": {},
     "output_type": "execute_result"
    }
   ],
   "source": [
    "#sequence IDS\n",
    "list(dfseq.index)"
   ]
  },
  {
   "cell_type": "code",
   "execution_count": 232,
   "metadata": {},
   "outputs": [],
   "source": [
    "#number of exons\n",
    "dfseq['NumExons']=dfseq['Exons'].apply(len).tolist()\n",
    "\n",
    "#number of introns\n",
    "dfseq['NumIntrons']=dfseq['Introns'].apply(len).tolist()\n",
    "\n",
    "#AvgExonLength\n",
    "dfseq['AvgExonLength']=dfseq['Exons'].apply(avgstrlen).tolist()\n",
    "#AvgIntronLength\n",
    "dfseq['AvgIntronLength']=dfseq['Introns'].apply(avgstrlen).tolist()\n",
    "\n",
    "#%A_Exon\n",
    "dfseq['%A_Exon']=dfseq['Exons'].apply(occurenceA).tolist()\n",
    "#%C_Exon\n",
    "dfseq['%C_Exon']=dfseq['Exons'].apply(occurenceC).tolist()\n",
    "#%G_Exon\n",
    "dfseq['%G_Exon']=dfseq['Exons'].apply(occurenceG).tolist()\n",
    "#%T_Exon\n",
    "dfseq['%T_Exon']=dfseq['Exons'].apply(occurenceT).tolist()\n",
    "\n",
    "#%A_Intron\n",
    "dfseq['%A_Intron']=dfseq['Introns'].apply(occurenceA).tolist()\n",
    "#%C_Intron\n",
    "dfseq['%C_Intron']=dfseq['Introns'].apply(occurenceC).tolist()\n",
    "#%G_Intron\n",
    "dfseq['%G_Intron']=dfseq['Introns'].apply(occurenceG).tolist()\n",
    "#%T_Intron\n",
    "dfseq['%T_Intron']=dfseq['Introns'].apply(occurenceT).tolist()"
   ]
  },
  {
   "cell_type": "code",
   "execution_count": 233,
   "metadata": {},
   "outputs": [
    {
     "data": {
      "text/html": [
       "<div>\n",
       "<style scoped>\n",
       "    .dataframe tbody tr th:only-of-type {\n",
       "        vertical-align: middle;\n",
       "    }\n",
       "\n",
       "    .dataframe tbody tr th {\n",
       "        vertical-align: top;\n",
       "    }\n",
       "\n",
       "    .dataframe thead th {\n",
       "        text-align: right;\n",
       "    }\n",
       "</style>\n",
       "<table border=\"1\" class=\"dataframe\">\n",
       "  <thead>\n",
       "    <tr style=\"text-align: right;\">\n",
       "      <th></th>\n",
       "      <th>Sequence</th>\n",
       "      <th>Primer</th>\n",
       "      <th>Exons</th>\n",
       "      <th>Introns</th>\n",
       "      <th>NumExons</th>\n",
       "      <th>NumIntrons</th>\n",
       "      <th>AvgExonLength</th>\n",
       "      <th>AvgIntronLength</th>\n",
       "      <th>%A_Exon</th>\n",
       "      <th>%C_Exon</th>\n",
       "      <th>%G_Exon</th>\n",
       "      <th>%T_Exon</th>\n",
       "      <th>%A_Intron</th>\n",
       "      <th>%C_Intron</th>\n",
       "      <th>%G_Intron</th>\n",
       "      <th>%T_Intron</th>\n",
       "    </tr>\n",
       "    <tr>\n",
       "      <th>ID</th>\n",
       "      <th></th>\n",
       "      <th></th>\n",
       "      <th></th>\n",
       "      <th></th>\n",
       "      <th></th>\n",
       "      <th></th>\n",
       "      <th></th>\n",
       "      <th></th>\n",
       "      <th></th>\n",
       "      <th></th>\n",
       "      <th></th>\n",
       "      <th></th>\n",
       "      <th></th>\n",
       "      <th></th>\n",
       "      <th></th>\n",
       "      <th></th>\n",
       "    </tr>\n",
       "  </thead>\n",
       "  <tbody>\n",
       "    <tr>\n",
       "      <th>HCN1</th>\n",
       "      <td>gccgaggggaggcgctggggcgcgagggctGAGCCGAGCTGAGCCT...</td>\n",
       "      <td>gccgaggggaggcgctggggcgcgagggct</td>\n",
       "      <td>[GAGCCGAGCTGAGCCTCGCCTAGCTCCGGCAGCCTCAGCTTCAGC...</td>\n",
       "      <td>[gtgagggctcccggtcgccgccccaccctcccttcaggcgcgccc...</td>\n",
       "      <td>8</td>\n",
       "      <td>7</td>\n",
       "      <td>1241.625000</td>\n",
       "      <td>61642.857143</td>\n",
       "      <td>30.252693</td>\n",
       "      <td>20.215443</td>\n",
       "      <td>20.004027</td>\n",
       "      <td>29.527837</td>\n",
       "      <td>32.098494</td>\n",
       "      <td>16.936732</td>\n",
       "      <td>17.690151</td>\n",
       "      <td>33.274623</td>\n",
       "    </tr>\n",
       "    <tr>\n",
       "      <th>HCN2</th>\n",
       "      <td>ccgccccgccccgcccccgcctcccccctCCCTCGGGCTCCGGCCG...</td>\n",
       "      <td>ccgccccgccccgcccccgcctcccccct</td>\n",
       "      <td>[CCCTCGGGCTCCGGCCGGCGGCGGCGGCGGCGGCTCCGCTCCGCA...</td>\n",
       "      <td>[gtaccgcctccgggagggccggtcggcgcgagggggcccggggag...</td>\n",
       "      <td>8</td>\n",
       "      <td>7</td>\n",
       "      <td>427.500000</td>\n",
       "      <td>3408.428571</td>\n",
       "      <td>15.116959</td>\n",
       "      <td>38.713450</td>\n",
       "      <td>32.105263</td>\n",
       "      <td>14.064327</td>\n",
       "      <td>17.527977</td>\n",
       "      <td>28.710340</td>\n",
       "      <td>33.345907</td>\n",
       "      <td>20.415776</td>\n",
       "    </tr>\n",
       "    <tr>\n",
       "      <th>KCNA1</th>\n",
       "      <td>gggctgcgcttcgagacgcagctcaagaccCTGGCGCAGTTCCCCA...</td>\n",
       "      <td>gggctgcgcttcgagacgcagctcaagacc</td>\n",
       "      <td>[CTGGCGCAGTTCCCCAACACGCTGCTGGGCAACCCTAAGAAACGC...</td>\n",
       "      <td>[gtaagcatgtttgaatctgatacaatttattttataatcgcatgc...</td>\n",
       "      <td>2</td>\n",
       "      <td>1</td>\n",
       "      <td>1309.000000</td>\n",
       "      <td>4062.000000</td>\n",
       "      <td>27.731092</td>\n",
       "      <td>24.407945</td>\n",
       "      <td>21.275783</td>\n",
       "      <td>26.585180</td>\n",
       "      <td>28.385032</td>\n",
       "      <td>20.827179</td>\n",
       "      <td>20.704087</td>\n",
       "      <td>30.083703</td>\n",
       "    </tr>\n",
       "    <tr>\n",
       "      <th>KCNA2</th>\n",
       "      <td>agcgctgaccaagaaaggaagtggtgatggGGCACATAGAAGAGTG...</td>\n",
       "      <td>agcgctgaccaagaaaggaagtggtgatgg</td>\n",
       "      <td>[GGCACATAGAAGAGTGAGCCATCATCTGGTTTCCAGCGCCAAGAC...</td>\n",
       "      <td>[gtgagagaagaggaggggcagcaagggtgagcatgcatgtgtgga...</td>\n",
       "      <td>5</td>\n",
       "      <td>4</td>\n",
       "      <td>391.800000</td>\n",
       "      <td>8984.000000</td>\n",
       "      <td>24.400204</td>\n",
       "      <td>26.901480</td>\n",
       "      <td>24.196018</td>\n",
       "      <td>24.502297</td>\n",
       "      <td>25.486977</td>\n",
       "      <td>23.216273</td>\n",
       "      <td>23.413847</td>\n",
       "      <td>27.882903</td>\n",
       "    </tr>\n",
       "    <tr>\n",
       "      <th>KCNS3</th>\n",
       "      <td>cctcgctctagcggggcgggaccgacggacAGACCGGCCGACGCGG...</td>\n",
       "      <td>cctcgctctagcggggcgggaccgacggac</td>\n",
       "      <td>[AGACCGGCCGACGCGGGCCACCCCGCTCTCCTCGCCGCCGCGGCG...</td>\n",
       "      <td>[gtacctggctggcgtccccacctccctgcgcgctccggagacttc...</td>\n",
       "      <td>3</td>\n",
       "      <td>2</td>\n",
       "      <td>780.333333</td>\n",
       "      <td>25975.500000</td>\n",
       "      <td>23.878684</td>\n",
       "      <td>23.964118</td>\n",
       "      <td>25.544639</td>\n",
       "      <td>26.612559</td>\n",
       "      <td>25.373910</td>\n",
       "      <td>19.254682</td>\n",
       "      <td>21.911032</td>\n",
       "      <td>33.460376</td>\n",
       "    </tr>\n",
       "    <tr>\n",
       "      <th>KIR3</th>\n",
       "      <td>gcgcggccgcctgtctgcaccggcagcaccATGTCGCTCATGGTCG...</td>\n",
       "      <td>gcgcggccgcctgtctgcaccggcagcacc</td>\n",
       "      <td>[ATGTCGCTCATGGTCGTCAGCATGGCGTGTGTTG, GAGTCCACA...</td>\n",
       "      <td>[gtgagtcctggaaaggaatagagggagggagtgccacatcctcct...</td>\n",
       "      <td>3</td>\n",
       "      <td>2</td>\n",
       "      <td>209.333333</td>\n",
       "      <td>1668.000000</td>\n",
       "      <td>20.541401</td>\n",
       "      <td>30.095541</td>\n",
       "      <td>25.000000</td>\n",
       "      <td>24.363057</td>\n",
       "      <td>32.224221</td>\n",
       "      <td>20.233813</td>\n",
       "      <td>27.607914</td>\n",
       "      <td>19.934053</td>\n",
       "    </tr>\n",
       "  </tbody>\n",
       "</table>\n",
       "</div>"
      ],
      "text/plain": [
       "                                                Sequence  \\\n",
       "ID                                                         \n",
       "HCN1   gccgaggggaggcgctggggcgcgagggctGAGCCGAGCTGAGCCT...   \n",
       "HCN2   ccgccccgccccgcccccgcctcccccctCCCTCGGGCTCCGGCCG...   \n",
       "KCNA1  gggctgcgcttcgagacgcagctcaagaccCTGGCGCAGTTCCCCA...   \n",
       "KCNA2  agcgctgaccaagaaaggaagtggtgatggGGCACATAGAAGAGTG...   \n",
       "KCNS3  cctcgctctagcggggcgggaccgacggacAGACCGGCCGACGCGG...   \n",
       "KIR3   gcgcggccgcctgtctgcaccggcagcaccATGTCGCTCATGGTCG...   \n",
       "\n",
       "                               Primer  \\\n",
       "ID                                      \n",
       "HCN1   gccgaggggaggcgctggggcgcgagggct   \n",
       "HCN2    ccgccccgccccgcccccgcctcccccct   \n",
       "KCNA1  gggctgcgcttcgagacgcagctcaagacc   \n",
       "KCNA2  agcgctgaccaagaaaggaagtggtgatgg   \n",
       "KCNS3  cctcgctctagcggggcgggaccgacggac   \n",
       "KIR3   gcgcggccgcctgtctgcaccggcagcacc   \n",
       "\n",
       "                                                   Exons  \\\n",
       "ID                                                         \n",
       "HCN1   [GAGCCGAGCTGAGCCTCGCCTAGCTCCGGCAGCCTCAGCTTCAGC...   \n",
       "HCN2   [CCCTCGGGCTCCGGCCGGCGGCGGCGGCGGCGGCTCCGCTCCGCA...   \n",
       "KCNA1  [CTGGCGCAGTTCCCCAACACGCTGCTGGGCAACCCTAAGAAACGC...   \n",
       "KCNA2  [GGCACATAGAAGAGTGAGCCATCATCTGGTTTCCAGCGCCAAGAC...   \n",
       "KCNS3  [AGACCGGCCGACGCGGGCCACCCCGCTCTCCTCGCCGCCGCGGCG...   \n",
       "KIR3   [ATGTCGCTCATGGTCGTCAGCATGGCGTGTGTTG, GAGTCCACA...   \n",
       "\n",
       "                                                 Introns  NumExons  \\\n",
       "ID                                                                   \n",
       "HCN1   [gtgagggctcccggtcgccgccccaccctcccttcaggcgcgccc...         8   \n",
       "HCN2   [gtaccgcctccgggagggccggtcggcgcgagggggcccggggag...         8   \n",
       "KCNA1  [gtaagcatgtttgaatctgatacaatttattttataatcgcatgc...         2   \n",
       "KCNA2  [gtgagagaagaggaggggcagcaagggtgagcatgcatgtgtgga...         5   \n",
       "KCNS3  [gtacctggctggcgtccccacctccctgcgcgctccggagacttc...         3   \n",
       "KIR3   [gtgagtcctggaaaggaatagagggagggagtgccacatcctcct...         3   \n",
       "\n",
       "       NumIntrons  AvgExonLength  AvgIntronLength    %A_Exon    %C_Exon  \\\n",
       "ID                                                                        \n",
       "HCN1            7    1241.625000     61642.857143  30.252693  20.215443   \n",
       "HCN2            7     427.500000      3408.428571  15.116959  38.713450   \n",
       "KCNA1           1    1309.000000      4062.000000  27.731092  24.407945   \n",
       "KCNA2           4     391.800000      8984.000000  24.400204  26.901480   \n",
       "KCNS3           2     780.333333     25975.500000  23.878684  23.964118   \n",
       "KIR3            2     209.333333      1668.000000  20.541401  30.095541   \n",
       "\n",
       "         %G_Exon    %T_Exon  %A_Intron  %C_Intron  %G_Intron  %T_Intron  \n",
       "ID                                                                       \n",
       "HCN1   20.004027  29.527837  32.098494  16.936732  17.690151  33.274623  \n",
       "HCN2   32.105263  14.064327  17.527977  28.710340  33.345907  20.415776  \n",
       "KCNA1  21.275783  26.585180  28.385032  20.827179  20.704087  30.083703  \n",
       "KCNA2  24.196018  24.502297  25.486977  23.216273  23.413847  27.882903  \n",
       "KCNS3  25.544639  26.612559  25.373910  19.254682  21.911032  33.460376  \n",
       "KIR3   25.000000  24.363057  32.224221  20.233813  27.607914  19.934053  "
      ]
     },
     "execution_count": 233,
     "metadata": {},
     "output_type": "execute_result"
    }
   ],
   "source": [
    "dfseq"
   ]
  },
  {
   "cell_type": "code",
   "execution_count": 235,
   "metadata": {},
   "outputs": [],
   "source": [
    "#extracting only needed columns\n",
    "dfseqstat=dfseq[['NumExons','NumIntrons', 'AvgExonLength', 'AvgIntronLength', '%A_Exon', '%C_Exon', '%G_Exon', '%T_Exon', '%A_Intron', '%C_Intron','%G_Intron','%T_Intron']]"
   ]
  },
  {
   "cell_type": "code",
   "execution_count": 245,
   "metadata": {},
   "outputs": [],
   "source": [
    "#rounding for cleaner output\n",
    "dfseqstat=dfseqstat.round()"
   ]
  },
  {
   "cell_type": "code",
   "execution_count": 250,
   "metadata": {},
   "outputs": [],
   "source": [
    "#Write to DNAStats.txt\n",
    "filename=file+'DNAStats.txt' #to avoid overwriting for multiple runs but with different filenames\n",
    "dfseqstat.to_csv(filename, header=True, index=True, sep='\\t')"
   ]
  },
  {
   "cell_type": "code",
   "execution_count": 251,
   "metadata": {},
   "outputs": [
    {
     "name": "stdout",
     "output_type": "stream",
     "text": [
      "       NumExons  NumIntrons  AvgExonLength  AvgIntronLength  %A_Exon  %C_Exon  \\\n",
      "ID                                                                              \n",
      "HCN1          8           7         1242.0          61643.0     30.0     20.0   \n",
      "HCN2          8           7          428.0           3408.0     15.0     39.0   \n",
      "KCNA1         2           1         1309.0           4062.0     28.0     24.0   \n",
      "KCNA2         5           4          392.0           8984.0     24.0     27.0   \n",
      "KCNS3         3           2          780.0          25976.0     24.0     24.0   \n",
      "KIR3          3           2          209.0           1668.0     21.0     30.0   \n",
      "\n",
      "       %G_Exon  %T_Exon  %A_Intron  %C_Intron  %G_Intron  %T_Intron  \n",
      "ID                                                                   \n",
      "HCN1      20.0     30.0       32.0       17.0       18.0       33.0  \n",
      "HCN2      32.0     14.0       18.0       29.0       33.0       20.0  \n",
      "KCNA1     21.0     27.0       28.0       21.0       21.0       30.0  \n",
      "KCNA2     24.0     25.0       25.0       23.0       23.0       28.0  \n",
      "KCNS3     26.0     27.0       25.0       19.0       22.0       33.0  \n",
      "KIR3      25.0     24.0       32.0       20.0       28.0       20.0  \n"
     ]
    }
   ],
   "source": [
    "print(dfseqstat)"
   ]
  },
  {
   "cell_type": "code",
   "execution_count": 258,
   "metadata": {},
   "outputs": [
    {
     "name": "stdout",
     "output_type": "stream",
     "text": [
      "The number of sequences is 6\n"
     ]
    }
   ],
   "source": [
    "print(\"The number of sequences is\", len(dfseq))"
   ]
  },
  {
   "cell_type": "code",
   "execution_count": 279,
   "metadata": {},
   "outputs": [
    {
     "data": {
      "text/html": [
       "<div>\n",
       "<style scoped>\n",
       "    .dataframe tbody tr th:only-of-type {\n",
       "        vertical-align: middle;\n",
       "    }\n",
       "\n",
       "    .dataframe tbody tr th {\n",
       "        vertical-align: top;\n",
       "    }\n",
       "\n",
       "    .dataframe thead th {\n",
       "        text-align: right;\n",
       "    }\n",
       "</style>\n",
       "<table border=\"1\" class=\"dataframe\">\n",
       "  <thead>\n",
       "    <tr style=\"text-align: right;\">\n",
       "      <th></th>\n",
       "      <th>NumExons</th>\n",
       "      <th>NumIntrons</th>\n",
       "      <th>AvgExonLength</th>\n",
       "      <th>AvgIntronLength</th>\n",
       "      <th>%A_Exon</th>\n",
       "      <th>%C_Exon</th>\n",
       "      <th>%G_Exon</th>\n",
       "      <th>%T_Exon</th>\n",
       "      <th>%A_Intron</th>\n",
       "      <th>%C_Intron</th>\n",
       "      <th>%G_Intron</th>\n",
       "      <th>%T_Intron</th>\n",
       "    </tr>\n",
       "    <tr>\n",
       "      <th>ID</th>\n",
       "      <th></th>\n",
       "      <th></th>\n",
       "      <th></th>\n",
       "      <th></th>\n",
       "      <th></th>\n",
       "      <th></th>\n",
       "      <th></th>\n",
       "      <th></th>\n",
       "      <th></th>\n",
       "      <th></th>\n",
       "      <th></th>\n",
       "      <th></th>\n",
       "    </tr>\n",
       "  </thead>\n",
       "  <tbody>\n",
       "    <tr>\n",
       "      <th>HCN1</th>\n",
       "      <td>8</td>\n",
       "      <td>7</td>\n",
       "      <td>1242.0</td>\n",
       "      <td>61643.0</td>\n",
       "      <td>30.0</td>\n",
       "      <td>20.0</td>\n",
       "      <td>20.0</td>\n",
       "      <td>30.0</td>\n",
       "      <td>32.0</td>\n",
       "      <td>17.0</td>\n",
       "      <td>18.0</td>\n",
       "      <td>33.0</td>\n",
       "    </tr>\n",
       "    <tr>\n",
       "      <th>HCN2</th>\n",
       "      <td>8</td>\n",
       "      <td>7</td>\n",
       "      <td>428.0</td>\n",
       "      <td>3408.0</td>\n",
       "      <td>15.0</td>\n",
       "      <td>39.0</td>\n",
       "      <td>32.0</td>\n",
       "      <td>14.0</td>\n",
       "      <td>18.0</td>\n",
       "      <td>29.0</td>\n",
       "      <td>33.0</td>\n",
       "      <td>20.0</td>\n",
       "    </tr>\n",
       "    <tr>\n",
       "      <th>KCNA1</th>\n",
       "      <td>2</td>\n",
       "      <td>1</td>\n",
       "      <td>1309.0</td>\n",
       "      <td>4062.0</td>\n",
       "      <td>28.0</td>\n",
       "      <td>24.0</td>\n",
       "      <td>21.0</td>\n",
       "      <td>27.0</td>\n",
       "      <td>28.0</td>\n",
       "      <td>21.0</td>\n",
       "      <td>21.0</td>\n",
       "      <td>30.0</td>\n",
       "    </tr>\n",
       "    <tr>\n",
       "      <th>KCNA2</th>\n",
       "      <td>5</td>\n",
       "      <td>4</td>\n",
       "      <td>392.0</td>\n",
       "      <td>8984.0</td>\n",
       "      <td>24.0</td>\n",
       "      <td>27.0</td>\n",
       "      <td>24.0</td>\n",
       "      <td>25.0</td>\n",
       "      <td>25.0</td>\n",
       "      <td>23.0</td>\n",
       "      <td>23.0</td>\n",
       "      <td>28.0</td>\n",
       "    </tr>\n",
       "    <tr>\n",
       "      <th>KCNS3</th>\n",
       "      <td>3</td>\n",
       "      <td>2</td>\n",
       "      <td>780.0</td>\n",
       "      <td>25976.0</td>\n",
       "      <td>24.0</td>\n",
       "      <td>24.0</td>\n",
       "      <td>26.0</td>\n",
       "      <td>27.0</td>\n",
       "      <td>25.0</td>\n",
       "      <td>19.0</td>\n",
       "      <td>22.0</td>\n",
       "      <td>33.0</td>\n",
       "    </tr>\n",
       "    <tr>\n",
       "      <th>KIR3</th>\n",
       "      <td>3</td>\n",
       "      <td>2</td>\n",
       "      <td>209.0</td>\n",
       "      <td>1668.0</td>\n",
       "      <td>21.0</td>\n",
       "      <td>30.0</td>\n",
       "      <td>25.0</td>\n",
       "      <td>24.0</td>\n",
       "      <td>32.0</td>\n",
       "      <td>20.0</td>\n",
       "      <td>28.0</td>\n",
       "      <td>20.0</td>\n",
       "    </tr>\n",
       "  </tbody>\n",
       "</table>\n",
       "</div>"
      ],
      "text/plain": [
       "       NumExons  NumIntrons  AvgExonLength  AvgIntronLength  %A_Exon  %C_Exon  \\\n",
       "ID                                                                              \n",
       "HCN1          8           7         1242.0          61643.0     30.0     20.0   \n",
       "HCN2          8           7          428.0           3408.0     15.0     39.0   \n",
       "KCNA1         2           1         1309.0           4062.0     28.0     24.0   \n",
       "KCNA2         5           4          392.0           8984.0     24.0     27.0   \n",
       "KCNS3         3           2          780.0          25976.0     24.0     24.0   \n",
       "KIR3          3           2          209.0           1668.0     21.0     30.0   \n",
       "\n",
       "       %G_Exon  %T_Exon  %A_Intron  %C_Intron  %G_Intron  %T_Intron  \n",
       "ID                                                                   \n",
       "HCN1      20.0     30.0       32.0       17.0       18.0       33.0  \n",
       "HCN2      32.0     14.0       18.0       29.0       33.0       20.0  \n",
       "KCNA1     21.0     27.0       28.0       21.0       21.0       30.0  \n",
       "KCNA2     24.0     25.0       25.0       23.0       23.0       28.0  \n",
       "KCNS3     26.0     27.0       25.0       19.0       22.0       33.0  \n",
       "KIR3      25.0     24.0       32.0       20.0       28.0       20.0  "
      ]
     },
     "execution_count": 279,
     "metadata": {},
     "output_type": "execute_result"
    }
   ],
   "source": [
    "#Retrieving sequence stats from created file\n",
    "\n",
    "#would normally use the created df to output info given sequence ID, but asked to read created file, so:\n",
    "newdf=pd.read_csv(filename, sep='\\t', engine='python')\n",
    "newdf=newdf.set_index('ID')\n",
    "newdf"
   ]
  },
  {
   "cell_type": "code",
   "execution_count": 291,
   "metadata": {},
   "outputs": [
    {
     "name": "stdout",
     "output_type": "stream",
     "text": [
      "NumExons              2.0\n",
      "NumIntrons            1.0\n",
      "AvgExonLength      1309.0\n",
      "AvgIntronLength    4062.0\n",
      "%A_Exon              28.0\n",
      "%C_Exon              24.0\n",
      "%G_Exon              21.0\n",
      "%T_Exon              27.0\n",
      "%A_Intron            28.0\n",
      "%C_Intron            21.0\n",
      "%G_Intron            21.0\n",
      "%T_Intron            30.0\n",
      "Name: KCNA1, dtype: float64\n"
     ]
    }
   ],
   "source": [
    "#example selection\n",
    "selection=\"KCNA1\"\n",
    "info = newdf.loc[selection]\n",
    "print(info)"
   ]
  },
  {
   "cell_type": "code",
   "execution_count": 362,
   "metadata": {},
   "outputs": [
    {
     "data": {
      "text/plain": [
       "True"
      ]
     },
     "execution_count": 362,
     "metadata": {},
     "output_type": "execute_result"
    }
   ],
   "source": [
    "idx=newdf.index\n",
    "\n",
    "'erhrw' not in idx"
   ]
  },
  {
   "cell_type": "code",
   "execution_count": 318,
   "metadata": {},
   "outputs": [],
   "source": [
    "#Translation of selection\n",
    "#getting the exon sequence of the user selection (SeqID)\n",
    "exons=dfseq.loc[selection,'Exons']\n",
    "\n",
    "#joining the exons into one exon string\n",
    "exonseq=''.join(exons).upper()\n",
    "exonseq=exonseq.replace(\"T\", \"U\")"
   ]
  },
  {
   "cell_type": "code",
   "execution_count": 320,
   "metadata": {},
   "outputs": [
    {
     "data": {
      "text/plain": [
       "'CUGGCGCAGUUCCCCAACACGCUGCUGGGCAACCCUAAGAAACGCAUGCGCUACUUCGACCCCCUGAGGAACGAGUACUUCUUCGACCGCAACCGGCCCAGCUUCGACGCCAUCCUCUACUACUACCAGUCCGGCGGCCGCCUGCGGAGGCCGGUCAACGUGCCCCUGGACAUGUUCUCCGAGGAGAUCAAGUUUUACGAGUUGGGCGAGGAGGCCAUGGAGAAGUUCCGGGAGGACGAGGGCUUCAUCAAGGAGGAGGAGCGCCCUCUGCCCGAGAAGGAGUACCAGCGCCAGGUGUGGCUGCUCUUCGAGUACCCCGAGAGCUCGGGGCCCGCCAGGGUCAUCGCCAUCGUCUCCGUCAUGGUCAUCCUCAUCUCCAUCGUCAUCUUUUGCCUGGAGACGCUCCCCGAGCUGAAGGAUGACAAGGACUUCACGGGCACCGUCCACCGCAUCGACAACACCACGGUCAUCUACAAUUCCAACAUCUUCACAGACCCCUUCUUCAUCGUGGAAACGCUGUGUAUCAUCUGGUUCUCCUUCGAGCUGGUGGUGCGCUUCUUCGCCUGCCCCAGCAAGACGGACUUCUUCAAAAACAUCAUGAACUUCAUAGACAUUGUGGCCAUCAUUCCUUAUUUCAUCACGCUGGGCACCGAGAUAGCUGAGCAGGAAGGAAACCAGAAGGGCGAGCAGGCCACCUCCCUGGCCAUCCUCAGGGUCAUCCGCUUGGUAAGGGUUUUUAGAAUCUUCAAGCUCUCCCGCCACUCUAAGGGCCUCCAGAUCCUGGGCCAGACCCUCAAAGCUAGUAUGAGAGAGCUAGGGCUGCUCAUCUUUUUCCUCUUCAUCGGGGUCAUCCUGUUUUCUAGUGCAGUGUACUUUGCCGAGGCGGAAGAAGCUGAGUCGCACUUCUCCAGUAUCCCCGAUGCUUUCUGGUGGGCGGUGGUGUCCAUGACCACUGUAGGAUACGGUGACAUGUACCCUGUGACAAUUGGAGGCAAGAUCGUGGGCUCCUUGUGUGCCAUCGCUGGUGUGCUAACAAUUGCCCUGCCCGUACCUGUCAUUGUGUCCAAUUUCAACUAUUUCUACCACCGAGAAACUGAGGGGGAAGAGCAGGCUCAGUUGCUCCACGUCAGUUCCCCUAACUUAGCCUCUGACAGUGACCUCAGUCGCCGCAGUUCCUCUACUAUGAGCAAGUCUGAGUACAUGGAGAUCGAAGAGGAUAUGAAUAAUAGCAUAGCCCAUUAUAGACAGGUCAAUAUCAGAACUGCCAAUUGCACCACUGCUAACCAAAACUGCGUUAAUAAGAGCAAGCUACUGACCGAUGUUUAAAAAACAAAGGCAAGCAAACAAAAAAGCCCCACUUAGCAGCUCAAAAGACUUAAAAAACAAAACAGAAAACCUAGUGACUCAUGUCACGCUUUGUAGAUACUUUACUAAGUAGACUUGGAAUGCUCUAUUUAACUGUCAAUGCGUUGUUGCAUUGAGGAUUUUGGGGGUGGUGAACCAGAAGCUUUCAAGAUCCAUGACAAAAUAAACUAUUUUCCUUUUAUUAAAAAAUGGGAAAAGAGAGAGUAUUUUCUAAAACUGGCUUAAAAAGAUUCAGUCCACGAACUAGUCUAGGUAAAAUAAUAAUCAUAUGCUUCCCCAAACUGAAACAUUUUUAAUGCUUUGGUUUCUUUAACUUUUUUAAAAACUCAGAACAAGAUGAUCACUUAGAAAUAUGAAAUUGAAAUUCGCAUGGGACUCCAGUAAAACAUCUUUGCAAACUGCGUAGCACAUUGAAGACAGUGCAUCAGAUGUAUUAUAUGUAACAUGAUAGACCAGCCAAAAUGGACAAUGAAUAGAUAUUUUUAUUUCGAUCAACUGAACUGCAUAUUACAAGGUGAAAAAAGAAAACUCCGAUUACUUAAGACUGGUUCACAAAGCACCUUAUAAAUUGGAUACUGGUCCUGAUCUGUAGGGAUUUCCCCCUGGGCCCAUUCUCUUUCUAAUCCAGAUUAUUCUCUAAGAAAAAGUUAACUGAAUUAAAUUAAUUGAUUCUUCUGCAGUGCCGCUAAAUGGUCUCAACUGCAGAUGAGCCAAAUACAGGUCUUUUCUCACCAGGCCUGCACUCCGACCCCUGGCUUUCAGAACUGGAUGUAAAACCUUAGCCUCCUUAUUGCAAGAGAGCACAAAUGAAGUUAAAUGUCAAAGUUGUCUCCUCUCCAAACCUUGCAGAAGCACCUUUCUUCUCUUCAGCGCACUGUUUUGGGACUGUUUAUGCAGCAGAUGUAAGUAGACAACAUGGACUCCAUGUGACAUGCCUCUAAUAGUAAAGAUAAAGUAUUACUGAGGUUAAAAAUAAAAAUUGAGUAGUAUUAAUUUAAAGUGCACCAUCAGGACAACAAACCAUUUAAGCUGAAAAAACGCUAUUUUAUUUCUUGAGUUUGCCAGUUGCUUCCACCUUGAGUUAAGGACGUGUCUCAUCUUCACCUACUGCGCAUUCUCCCUUCUCUAACUGUGUAAUAUGUCAGGUCAAGGACAUUGAAUGUUAUGAAUUGAGAACCUAAUUGAUGCGCAUAGUUUUCAUCUAUGCAAUUUUACUUGCUUCUGUCACUUUACGAUCUGUUCAUAUUUGGCAU'"
      ]
     },
     "execution_count": 320,
     "metadata": {},
     "output_type": "execute_result"
    }
   ],
   "source": [
    "exonseq"
   ]
  },
  {
   "cell_type": "code",
   "execution_count": 326,
   "metadata": {},
   "outputs": [
    {
     "data": {
      "text/plain": [
       "'LAQFPNTLLGNPKKRMRYFDPLRNEYFFDRNRPSFDAILYYYQSGGRLRRPVNVPLDMFSEEIKFYELGEEAMEKFREDEGFIKEEERPLPEKEYQRQVWLLFEYPESSGPARVIAIVSVMVILISIVIFCLETLPELKDDKDFTGTVHRIDNTTVIYNSNIFTDPFFIVETLCIIWFSFELVVRFFACPSKTDFFKNIMNFIDIVAIIPYFITLGTEIAEQEGNQKGEQATSLAILRVIRLVRVFRIFKLSRHSKGLQILGQTLKASMRELGLLIFFLFIGVILFSSAVYFAEAEEAESHFSSIPDAFWWAVVSMTTVGYGDMYPVTIGGKIVGSLCAIAGVLTIALPVPVIVSNFNYFYHRETEGEEQAQLLHVSSPNLASDSDLSRRSSSTMSKSEYMEIEEDMNNSIAHYRQVNIRTANCTTANQNCVNKSKLLTDVSTOPKTKASKQKSPTSTOPQLKRLKKQNRKPSDSCHALSTOPILYSTOPVDLECSISTOPLSMRCCIEDFGGGEPEAFKIHDKINYFPFIKKWEKREYFLKLASTOPKDSVHELVSTOPVKSTOPSTOPSYASPNSTOPNIFNALVSLTFLKTQNKMITSTOPKYEIEIRMGLQSTOPNIFANCVAHSTOPRQCIRCIICNMIDQPKWTMNRYFYFDQLNCILQGEKRKLRLLKTGSQSTLSTOPIGYWSSTOPSVGISPWAHSLSNPDYSLRKSSTOPLNSTOPINSTOPFFCSAAKWSQLQMSQIQVFSHQACTPTPGFQNWMSTOPNLSLLIAREHKSTOPSSTOPMSKLSPLQTLQKHLSSLQRTVLGLFMQQMSTOPVDNMDSMSTOPHASNSKDKVLLRLKIKIESTOPYSTOPFKVHHQDNKPFKLKKRYFISSTOPVCQLLPPSTOPVKDVSHLHLLRILPSLTVSTOPYVRSRTLNVMNSTOPEPNSTOPCASTOPFSSMQFYLLLSLYDLFIFG'"
      ]
     },
     "execution_count": 326,
     "metadata": {},
     "output_type": "execute_result"
    }
   ],
   "source": [
    "#function that translates a given mRNA into a protein sequence\n",
    "def translate(seq):\n",
    "    protein =\"\"\n",
    "    \n",
    "    cmap = {\"UUU\":\"F\", \"UUC\":\"F\", \"UUA\":\"L\", \"UUG\":\"L\", \"UCU\":\"S\", \"UCC\":\"S\", \"UCA\":\"S\", \n",
    "           \"UCG\":\"S\", \"UAU\":\"Y\", \"UAC\":\"Y\", \"UAA\":\"STOP\", \"UAG\":\"STOP\", \"UGU\":\"C\", \"UGC\":\"C\", \n",
    "           \"UGA\":\"STOP\", \"UGG\":\"W\", \"CUU\":\"L\", \"CUC\":\"L\", \"CUA\":\"L\", \"CUG\":\"L\", \"CCU\":\"P\", \n",
    "           \"CCC\":\"P\", \"CCA\":\"P\", \"CCG\":\"P\", \"CAU\":\"H\", \"CAC\":\"H\", \"CAA\":\"Q\", \"CAG\":\"Q\", \n",
    "           \"CGU\":\"R\", \"CGC\":\"R\", \"CGA\":\"R\", \"CGG\":\"R\", \"AUU\":\"I\", \"AUC\":\"I\", \"AUA\":\"I\", \n",
    "           \"AUG\":\"M\", \"ACU\":\"T\", \"ACC\":\"T\", \"ACA\":\"T\", \"ACG\":\"T\", \"AAU\":\"N\", \"AAC\":\"N\", \n",
    "           \"AAA\":\"K\", \"AAG\":\"K\", \"AGU\":\"S\", \"AGC\":\"S\", \"AGA\":\"R\", \"AGG\":\"R\", \"GUU\":\"V\", \n",
    "           \"GUC\":\"V\", \"GUA\":\"V\", \"GUG\":\"V\", \"GCU\":\"A\", \"GCC\":\"A\", \"GCA\":\"A\", \"GCG\":\"A\", \n",
    "           \"GAU\":\"D\", \"GAC\":\"D\", \"GAA\":\"E\", \"GAG\":\"E\", \"GGU\":\"G\", \"GGC\":\"G\", \"GGA\":\"G\", \"GGG\":\"G\"}\n",
    "\n",
    "    if len(seq)%3 != 0: #if the sequence isn't divisible by 3\n",
    "        skip=len(seq)%3 #skip the remainder (either last 1 or 2 bases)\n",
    "    \n",
    "    for i in range(0, len(seq)-skip, 3):\n",
    "        codon = seq[i:i+3]\n",
    "        protein=protein+cmap[codon]\n",
    "    \n",
    "    return protein\n",
    "\n",
    "translate(exonseq)"
   ]
  },
  {
   "cell_type": "code",
   "execution_count": 336,
   "metadata": {},
   "outputs": [
    {
     "data": {
      "text/plain": [
       "'gggctgcgcttcgagacgcagctcaagacc'"
      ]
     },
     "execution_count": 336,
     "metadata": {},
     "output_type": "execute_result"
    }
   ],
   "source": [
    "#primer melting temperature: range & average\n",
    "\n",
    "#getting the primer sequence of the user selection (SeqID)\n",
    "primer=dfseq.loc[selection,'Primer']\n",
    "primer"
   ]
  },
  {
   "cell_type": "code",
   "execution_count": 332,
   "metadata": {},
   "outputs": [
    {
     "data": {
      "text/plain": [
       "['gggctgcgcttcgagacgca',\n",
       " 'ggctgcgcttcgagacgcag',\n",
       " 'gctgcgcttcgagacgcagc',\n",
       " 'ctgcgcttcgagacgcagct',\n",
       " 'tgcgcttcgagacgcagctc',\n",
       " 'gcgcttcgagacgcagctca',\n",
       " 'cgcttcgagacgcagctcaa',\n",
       " 'gcttcgagacgcagctcaag',\n",
       " 'cttcgagacgcagctcaaga',\n",
       " 'ttcgagacgcagctcaagac',\n",
       " 'tcgagacgcagctcaagacc']"
      ]
     },
     "execution_count": 332,
     "metadata": {},
     "output_type": "execute_result"
    }
   ],
   "source": [
    "#uses islice\n",
    "#function that returns a list of sliding window strings\n",
    "def window(seq, n=20):\n",
    "    #sliding window of seq of width n\n",
    "    it = iter(seq)\n",
    "    result = tuple(islice(it, n))\n",
    "    if len(result) == n:\n",
    "        yield result    \n",
    "    for elem in it:\n",
    "        result = result[1:] + (elem,)\n",
    "        yield result\n",
    "\n",
    "primerwindows=[\"\".join(x) for x in window(primer, 20)]\n",
    "primerwindows"
   ]
  },
  {
   "cell_type": "code",
   "execution_count": 346,
   "metadata": {},
   "outputs": [
    {
     "data": {
      "text/plain": [
       "array([68., 68., 68., 66., 66., 66., 64., 64., 62., 62., 64.])"
      ]
     },
     "execution_count": 346,
     "metadata": {},
     "output_type": "execute_result"
    }
   ],
   "source": [
    "#generates list of primer window temperatures\n",
    "def primer_window_temps(primer):\n",
    "    primerwindows=[\"\".join(x) for x in window(primer, 20)]\n",
    "    meltingtemps=[]\n",
    "    for w in primerwindows:\n",
    "        AT=w.count('a')+w.count('t')\n",
    "        GC=w.count('g')+w.count('c')\n",
    "        temp=(float(AT)*2) + (float(GC)*4)\n",
    "        meltingtemps.append(temp)\n",
    "    return meltingtemps\n",
    "\n",
    "#array of melting temperatures of all windows\n",
    "#turn into numpy array\n",
    "nptemps = np.array(primer_window_temps(primer))\n",
    "nptemps"
   ]
  },
  {
   "cell_type": "code",
   "execution_count": 347,
   "metadata": {},
   "outputs": [
    {
     "data": {
      "text/plain": [
       "65.27272727272727"
      ]
     },
     "execution_count": 347,
     "metadata": {},
     "output_type": "execute_result"
    }
   ],
   "source": [
    "#Stats of melting temperatures\n",
    "np.mean(nptemps)"
   ]
  },
  {
   "cell_type": "code",
   "execution_count": 350,
   "metadata": {},
   "outputs": [
    {
     "data": {
      "text/plain": [
       "62.0"
      ]
     },
     "execution_count": 350,
     "metadata": {},
     "output_type": "execute_result"
    }
   ],
   "source": [
    "np.min(nptemps)"
   ]
  },
  {
   "cell_type": "code",
   "execution_count": 351,
   "metadata": {},
   "outputs": [
    {
     "data": {
      "text/plain": [
       "68.0"
      ]
     },
     "execution_count": 351,
     "metadata": {},
     "output_type": "execute_result"
    }
   ],
   "source": [
    "np.max(nptemps)"
   ]
  },
  {
   "cell_type": "code",
   "execution_count": null,
   "metadata": {},
   "outputs": [],
   "source": [
    "#range is min-max"
   ]
  },
  {
   "cell_type": "markdown",
   "metadata": {},
   "source": [
    "## 1.B. Full Code for Part I\n",
    "Including user input: run entire cell to execute code"
   ]
  },
  {
   "cell_type": "code",
   "execution_count": 364,
   "metadata": {},
   "outputs": [
    {
     "name": "stdout",
     "output_type": "stream",
     "text": [
      "FinalProject.fasta\n",
      "The number of sequences in FinalProject.fasta is 6\n",
      "The file FinalProject.fastaDNAStats.txt was created.\n",
      "\n",
      "       NumExons  NumIntrons  AvgExonLength  AvgIntronLength  %A_Exon  %C_Exon  \\\n",
      "ID                                                                              \n",
      "HCN1          8           7         1242.0          61643.0     30.0     20.0   \n",
      "HCN2          8           7          428.0           3408.0     15.0     39.0   \n",
      "KCNA1         2           1         1309.0           4062.0     28.0     24.0   \n",
      "KCNA2         5           4          392.0           8984.0     24.0     27.0   \n",
      "KCNS3         3           2          780.0          25976.0     24.0     24.0   \n",
      "KIR3          3           2          209.0           1668.0     21.0     30.0   \n",
      "\n",
      "       %G_Exon  %T_Exon  %A_Intron  %C_Intron  %G_Intron  %T_Intron  \n",
      "ID                                                                   \n",
      "HCN1      20.0     30.0       32.0       17.0       18.0       33.0  \n",
      "HCN2      32.0     14.0       18.0       29.0       33.0       20.0  \n",
      "KCNA1     21.0     27.0       28.0       21.0       21.0       30.0  \n",
      "KCNA2     24.0     25.0       25.0       23.0       23.0       28.0  \n",
      "KCNS3     26.0     27.0       25.0       19.0       22.0       33.0  \n",
      "KIR3      25.0     24.0       32.0       20.0       28.0       20.0  \n",
      "\n",
      "Input sequence ID to retrieve info: \n",
      "rdgraeg\n",
      "sequence ID not found: \n",
      "Input sequence ID to retrieve info: \n",
      "erhaerh\n",
      "sequence ID not found: \n",
      "Input sequence ID to retrieve info: \n",
      "KCNS3\n",
      "Info for KCNS3\n",
      "NumExons               3.0\n",
      "NumIntrons             2.0\n",
      "AvgExonLength        780.0\n",
      "AvgIntronLength    25976.0\n",
      "%A_Exon               24.0\n",
      "%C_Exon               24.0\n",
      "%G_Exon               26.0\n",
      "%T_Exon               27.0\n",
      "%A_Intron             25.0\n",
      "%C_Intron             19.0\n",
      "%G_Intron             22.0\n",
      "%T_Intron             33.0\n",
      "Name: KCNS3, dtype: float64\n",
      "\n",
      "MRNA Sequence: AGACCGGCCGACGCGGGCCACCCCGCUCUCCUCGCCGCCGCGGCGGCAGGCGCGGGGCCGCGCCGCGAGGCCUGAUCCCUGCAGCGCGGGCAGGCGGCGUCGCAGAGCGGAGCUAGCUGGAUGCGUCCGGACUCCUGCAGGUGAGAGUGAUUUUCCAGUGAUUGCUUUGGCCUGUACAACCAGAGAACAGGAUUCUUCCCUUCUUUUUGGCCACCAAAUGCCUAUGUGCACCACACAUUCCAGUGUGCUGAGAAGGGCAGAGCUUCUUGGAUGAUGAUGGACGUCCCACCGGGCAGGAUGAAGGCAGAGCGUGUGGCAUCUCCACCUCAAGGGUGCAGCCUGAUCUUCCUCUUCUCCCUUGCCAGCCAGCACUCUGCCUUCUGUAUCCACCAUGGUGUUUGGUGAGUUUUUCCAUCGCCCUGGACAAGACGAGGAACUUGUCAACCUGAAUGUGGGGGGCUUUAAGCAGUCUGUUGACCAAAGCACCCUCCUGCGGUUUCCUCACACCAGACUGGGGAAGCUGCUUACUUGCCAUUCUGAAGAGGCCAUUCUGGAGCUGUGUGAUGAUUACAGUGUGGCCGAUAAGGAGUACUACUUUGAUCGGAAUCCCUCCUUGUUCAGAUAUGUUUUGAAUUUUUAUUACACGGGGAAGCUGCAUGUCAUGGAGGAGCUGUGCGUAUUCUCAUUCUGCCAGGAGAUCGAGUACUGGGGCAUCAACGAGCUCUUCAUUGAUUCUUGCUGCAGCAAUCGCUACCAGGAACGCAAGGAGGAAAACCACGAGAAGGACUGGGACCAGAAAAGCCAUGAUGUGAGUACCGACUCCUCGUUUGAAGAGUCGUCUCUGUUUGAGAAAGAGCUGGAGAAGUUUGACACACUGCGAUUUGGUCAGCUCCGGAAGAAAAUCUGGAUUAGAAUGGAGAAUCCAGCGUACUGCCUGUCCGCUAAGCUUAUCGCUAUCUCCUCCUUGAGCGUGGUGCUGGCCUCCAUCGUGGCCAUGUGCGUUCACAGCAUGUCGGAGUUCCAGAAUGAGGAUGGAGAAGUGGAUGAUCCGGUGCUGGAAGGAGUGGAGAUCGCGUGCAUUGCCUGGUUCACCGGGGAGCUUGCCGUCCGGCUGGCUGCCGCUCCUUGUCAAAAGAAAUUCUGGAAAAACCCUCUGAACAUCAUUGACUUUGUCUCUAUUAUUCCCUUCUAUGCCACGUUGGCUGUAGACACCAAGGAGGAAGAGAGUGAGGAUAUUGAGAACAUGGGCAAGGUGGUCCAGAUCCUACGGCUUAUGAGGAUUUUCCGAAUUCUAAAGCUUGCCCGGCACUCGGUAGGACUUCGGUCUCUAGGUGCCACACUGAGACACAGCUACCAUGAAGUUGGGCUUCUGCUUCUCUUCCUCUCUGUGGGCAUUUCCAUUUUCUCUGUGCUUAUCUACUCCGUGGAGAAAGAUGACCACACAUCCAGCCUCACCAGCAUCCCCAUCUGCUGGUGGUGGGCCACCAUCAGCAUGACAACUGUGGGCUAUGGAGACACCCACCCGGUCACCUUGGCGGGAAAGCUCAUCGCCAGCACAUGCAUCAUCUGUGGCAUCUUGGUGGUGGCCCUUCCCAUCACCAUCAUCUUCAACAAGUUUUCCAAGUACUACCAGAAGCAAAAGGACAUUGAUGUGGACCAGUGCAGUGAGGAUGCACCAGAGAAGUGUCAUGAGCUACCUUACUUUAACAUUAGGGAUAUAUAUGCACAGCGGAUGCACACCUUCAUUACCAGUCUCUCUUCUGUAGGCAUUGUGGUGAGCGAUCCUGACUCCACAGAUGCUUCAAGCAUUGAAGACAAUGAGGACAUUUGUAACACCACCUCCUUGGAGAAUUGCACAGCAAAAUGAGCGGGGGUGUUUGUGCCUGUUUCUCUUAUCCUUUCCCGACAUUAGGUUAACACAGCUUUAUAAACCUCAGUGGGUUCGUUAAAAUCAUUUAAUUCUCAGGGUGUACCUUUCAGCCAUAGUUGGACAUUCAUUGCUGAAUUCUGAAAUGAUAGAAUUGUCUUUAUUUUUCUCUGUGAGGUCAAUUAAAUGCCUUGUUCUGAAAUUUAUUUUUUACAAGAGAGAGUUGUGAUAUAGUUUGGAAUAUAAGAUAAAUGGUAUUGGGUGGGGUUUGUGGCUACAGCUUAUGCAUCAUUCUGUGUUUGUCAUUUACUCACAUUGAGCUAACUUUAAAUUACUGACAAGUAGAAUCAAAGGUGCAGCUGACUGAGACGACAUGCAUGUAAGAUCCACAAAAUGAGACAAUGCAUGUAAAUCCAUGCUCAUGUUCUAAACAUGGAAACUAGGAGCCUAAUAAACUUCCUAAUUCAGUAUGGA\n",
      "\n",
      "Peptide Sequence: RPADAGHPALLAAAAAGAGPRREASTOPSLQRGQAASQSGASWMRPDSCRSTOPESTOPFSSDCFGLYNQRTGFFPSFWPPNAYVHHTFQCAEKGRASWMMMDVPPGRMKAERVASPPQGCSLIFLFSLASQHSAFCIHHGVWSTOPVFPSPWTRRGTCQPECGGLSTOPAVCSTOPPKHPPAVSSHQTGEAAYLPFSTOPRGHSGAVSTOPSTOPLQCGRSTOPGVLLSTOPSESLLVQICFEFLLHGEAACHGGAVRILILPGDRVLGHQRALHSTOPFLLQQSLPGTQGGKPREGLGPEKPSTOPCEYRLLVSTOPRVVSVSTOPERAGEVSTOPHTAIWSAPEENLDSTOPNGESSVLPVRSTOPAYRYLLLERGAGLHRGHVRSQHVGVPESTOPGWRSGSTOPSGAGRSGDRVHCLVHRGACRPAGCRSLSKEILEKPSEHHSTOPLCLYYSLLCHVGCRHQGGRESTOPGYSTOPEHGQGGPDPTAYEDFPNSKACPALGRTSVSRCHTETQLPSTOPSWASASLPLCGHFHFLCAYLLRGERSTOPPHIQPHQHPHLLVVGHHQHDNCGLWRHPPGHLGGKAHRQHMHHLWHLGGGPSHHHHLQQVFQVLPEAKGHSTOPCGPVQSTOPGCTREVSSTOPATLLSTOPHSTOPGYICTADAHLHYQSLFCRHCGERSSTOPLHRCFKHSTOPRQSTOPGHLSTOPHHLLGELHSKMSGGVCACFSYPFPTLGSTOPHSFINLSGFVKIISTOPFSGCTFQPSTOPLDIHCSTOPILKSTOPSTOPNCLYFSLSTOPGQLNALFSTOPNLFFTRESCDIVWNIRSTOPMVLGGVCGYSLCIILCLSFTHIELTLNYSTOPQVESKVQLTETTCMSTOPDPQNETMHVNPCSCSKHGNSTOPEPNKLPNSVW\n",
      "\n",
      "Primer stats: \n",
      "Average melting temperature:  71.45454545454545\n",
      "Minimum melting temperature:  70.0\n",
      "Maximum melting temperature:  74.0\n",
      "Range:  4.0\n"
     ]
    }
   ],
   "source": [
    "###FULL SCRIPT\n",
    "\n",
    "import numpy as np\n",
    "import pandas as pd\n",
    "import os\n",
    "import re\n",
    "from statistics import mean\n",
    "from itertools import islice\n",
    "\n",
    "print(\"Input fasta file path: \")\n",
    "file=input()\n",
    "\n",
    "#PARSING FASTA\n",
    "\n",
    "f=open(file)\n",
    "sequence_names=[]\n",
    "sequences=[]\n",
    "count=0\n",
    "seq=\"\"\n",
    "\n",
    "for line in f:\n",
    "    if line.startswith(\">\"):\n",
    "        sequence_names.append(line[1:].strip()) #to remove the > and \\n\n",
    "        count=count+1\n",
    "        sequences.append(\"\") #initializing the slot for the sequence\n",
    "    elif not line.startswith('#') and line!=\"\":\n",
    "        sequences[count-1]=sequences[count-1]+line.strip().replace('-',\"\")\n",
    "\n",
    "f.close()\n",
    "\n",
    "#initialize data\n",
    "data = {'ID':sequence_names,\n",
    "        'Sequence':sequences}\n",
    "  \n",
    "#dataframe\n",
    "dfseq = pd.DataFrame(data)\n",
    "#set index as sequence ID\n",
    "dfseq=dfseq.set_index('ID')\n",
    "\n",
    "print(\"The number of sequences in \" + file + \" is\", len(dfseq))\n",
    "\n",
    "#extracting primers, introns, and exons, and storing then in pandas dataframe\n",
    "primers=[]\n",
    "exons=[]\n",
    "introns=[]\n",
    "\n",
    "for i in range(0, len(dfseq)):\n",
    "    p=re.findall('[a-z]+', dfseq.Sequence[i])[0] #the first lowercase is the primer\n",
    "    primers.append(p)\n",
    "    \n",
    "    ex=re.findall('[A-Z]+', dfseq.Sequence[i]) #all uppercases are exons\n",
    "    exons.append(ex)\n",
    "    \n",
    "    intr=re.findall('[a-z]+', dfseq.Sequence[i])[1:-1] #all lowercases are introns: exclude upperstream and lowerstream\n",
    "    introns.append(intr)\n",
    "    \n",
    "#adding primer, exons and introns to the dataframe\n",
    "dfseq['Primer']=primers\n",
    "dfseq['Exons']=exons\n",
    "dfseq['Introns']=introns\n",
    "#dfseq is a dataframe with seqid, sequence, primer, intron, exon\n",
    "\n",
    "#FUNCTIONS (to be used with dataframe.apply) to calculate statistics\n",
    "\n",
    "#function that returns average string length in a list of strings\n",
    "#uses mean from statistics package\n",
    "def avgstrlen(list):\n",
    "    return mean([len(i) for i in list])\n",
    "\n",
    "#function that calculates the percentage occurence of a letter in a list of strings\n",
    "def occurencepercentage(letter, list):\n",
    "    str=''.join(list).upper() #case insensitive, join list elements into a single string\n",
    "    freq=str.count(letter.upper()) #occurence of letter in string\n",
    "    perc=100*(float(freq)/float(len(str))) #percentage\n",
    "    return perc\n",
    "\n",
    "#functions that calculate percentage occurence of each nucleotide (to be used with apply)\n",
    "def occurenceA(list):\n",
    "    return occurencepercentage('A', list)\n",
    "\n",
    "def occurenceG(list):\n",
    "    return occurencepercentage('G', list)\n",
    "\n",
    "def occurenceC(list):\n",
    "    return occurencepercentage('C', list)\n",
    "\n",
    "def occurenceT(list):\n",
    "    return occurencepercentage('T', list)\n",
    "\n",
    "#ADDING STATS to dfseq\n",
    "#number of exons\n",
    "dfseq['NumExons']=dfseq['Exons'].apply(len).tolist()\n",
    "\n",
    "#number of introns\n",
    "dfseq['NumIntrons']=dfseq['Introns'].apply(len).tolist()\n",
    "\n",
    "#AvgExonLength\n",
    "dfseq['AvgExonLength']=dfseq['Exons'].apply(avgstrlen).tolist()\n",
    "#AvgIntronLength\n",
    "dfseq['AvgIntronLength']=dfseq['Introns'].apply(avgstrlen).tolist()\n",
    "\n",
    "#%A_Exon\n",
    "dfseq['%A_Exon']=dfseq['Exons'].apply(occurenceA).tolist()\n",
    "#%C_Exon\n",
    "dfseq['%C_Exon']=dfseq['Exons'].apply(occurenceC).tolist()\n",
    "#%G_Exon\n",
    "dfseq['%G_Exon']=dfseq['Exons'].apply(occurenceG).tolist()\n",
    "#%T_Exon\n",
    "dfseq['%T_Exon']=dfseq['Exons'].apply(occurenceT).tolist()\n",
    "\n",
    "#%A_Intron\n",
    "dfseq['%A_Intron']=dfseq['Introns'].apply(occurenceA).tolist()\n",
    "#%C_Intron\n",
    "dfseq['%C_Intron']=dfseq['Introns'].apply(occurenceC).tolist()\n",
    "#%G_Intron\n",
    "dfseq['%G_Intron']=dfseq['Introns'].apply(occurenceG).tolist()\n",
    "#%T_Intron\n",
    "dfseq['%T_Intron']=dfseq['Introns'].apply(occurenceT).tolist()\n",
    "\n",
    "#extracting only needed columns\n",
    "dfseqstat=dfseq[['NumExons','NumIntrons', 'AvgExonLength', 'AvgIntronLength', '%A_Exon', '%C_Exon', '%G_Exon', '%T_Exon', '%A_Intron', '%C_Intron','%G_Intron','%T_Intron']]\n",
    "\n",
    "#rounding for cleaner output\n",
    "dfseqstat=dfseqstat.round()\n",
    "\n",
    "#Write to DNAStats.txt\n",
    "filename=file+'DNAStats.txt' #to avoid overwriting for multiple runs but with different filenames\n",
    "dfseqstat.to_csv(filename, header=True, index=True, sep='\\t')\n",
    "print(\"The file \" +filename+\" was created.\")\n",
    "print(\"\")\n",
    "print(dfseqstat)\n",
    "print(\"\")\n",
    "\n",
    "#Retrieving sequence stats from created file\n",
    "newdf=pd.read_csv(filename, sep='\\t', engine='python') #reading the file into a pd dataframe\n",
    "newdf=newdf.set_index('ID') #setting the ID as the index\n",
    "\n",
    "#user input sequence ID\n",
    "idx=newdf.index #the index of the dataframe, contains all sequence IDs\n",
    "flag = True\n",
    "while flag:\n",
    "    print(\"Input sequence ID to retrieve info: \")\n",
    "    selection=input()\n",
    "    if selection not in idx:\n",
    "        print(\"sequence ID not found: \")\n",
    "    else:\n",
    "        flag=False\n",
    "\n",
    "info = newdf.loc[selection]\n",
    "print(\"\")\n",
    "print(\"Info for \" + selection)\n",
    "print(info)\n",
    "\n",
    "#Translation of selection\n",
    "#getting the exon sequence of the user selection (SeqID)\n",
    "exons=dfseq.loc[selection,'Exons']\n",
    "\n",
    "#joining the exons into one exon string\n",
    "exonseq=''.join(exons).upper()\n",
    "exonseq=exonseq.replace(\"T\", \"U\")\n",
    "print(\"\")\n",
    "print(\"MRNA Sequence: \" +exonseq)\n",
    "\n",
    "#function that translates a given mRNA into a protein sequence\n",
    "def translate(seq):\n",
    "    protein =\"\"\n",
    "    \n",
    "    cmap = {\"UUU\":\"F\", \"UUC\":\"F\", \"UUA\":\"L\", \"UUG\":\"L\", \"UCU\":\"S\", \"UCC\":\"S\", \"UCA\":\"S\", \n",
    "           \"UCG\":\"S\", \"UAU\":\"Y\", \"UAC\":\"Y\", \"UAA\":\"STOP\", \"UAG\":\"STOP\", \"UGU\":\"C\", \"UGC\":\"C\", \n",
    "           \"UGA\":\"STOP\", \"UGG\":\"W\", \"CUU\":\"L\", \"CUC\":\"L\", \"CUA\":\"L\", \"CUG\":\"L\", \"CCU\":\"P\", \n",
    "           \"CCC\":\"P\", \"CCA\":\"P\", \"CCG\":\"P\", \"CAU\":\"H\", \"CAC\":\"H\", \"CAA\":\"Q\", \"CAG\":\"Q\", \n",
    "           \"CGU\":\"R\", \"CGC\":\"R\", \"CGA\":\"R\", \"CGG\":\"R\", \"AUU\":\"I\", \"AUC\":\"I\", \"AUA\":\"I\", \n",
    "           \"AUG\":\"M\", \"ACU\":\"T\", \"ACC\":\"T\", \"ACA\":\"T\", \"ACG\":\"T\", \"AAU\":\"N\", \"AAC\":\"N\", \n",
    "           \"AAA\":\"K\", \"AAG\":\"K\", \"AGU\":\"S\", \"AGC\":\"S\", \"AGA\":\"R\", \"AGG\":\"R\", \"GUU\":\"V\", \n",
    "           \"GUC\":\"V\", \"GUA\":\"V\", \"GUG\":\"V\", \"GCU\":\"A\", \"GCC\":\"A\", \"GCA\":\"A\", \"GCG\":\"A\", \n",
    "           \"GAU\":\"D\", \"GAC\":\"D\", \"GAA\":\"E\", \"GAG\":\"E\", \"GGU\":\"G\", \"GGC\":\"G\", \"GGA\":\"G\", \"GGG\":\"G\"}\n",
    "\n",
    "    if len(seq)%3 != 0: #if the sequence isn't divisible by 3\n",
    "        skip=len(seq)%3 #skip the remainder (either last 1 or 2 bases)\n",
    "    \n",
    "    for i in range(0, len(seq)-skip, 3):\n",
    "        codon = seq[i:i+3]\n",
    "        protein=protein+cmap[codon]\n",
    "    \n",
    "    return protein\n",
    "\n",
    "print(\"\")\n",
    "print(\"Peptide Sequence: \" +translate(exonseq))\n",
    "\n",
    "#primer melting temperature: range & average\n",
    "\n",
    "#getting the primer sequence of the user selection (SeqID)\n",
    "primer=dfseq.loc[selection,'Primer']\n",
    "\n",
    "#uses islice\n",
    "#function that returns a list of sliding window strings\n",
    "def window(seq, n=20):\n",
    "    #sliding window of seq of width n\n",
    "    it = iter(seq)\n",
    "    result = tuple(islice(it, n))\n",
    "    if len(result) == n:\n",
    "        yield result    \n",
    "    for elem in it:\n",
    "        result = result[1:] + (elem,)\n",
    "        yield result\n",
    "\n",
    "primerwindows=[\"\".join(x) for x in window(primer, 20)]\n",
    "\n",
    "#generates list of primer window temperatures\n",
    "def primer_window_temps(primer):\n",
    "    primerwindows=[\"\".join(x) for x in window(primer, 20)]\n",
    "    meltingtemps=[]\n",
    "    for w in primerwindows:\n",
    "        AT=w.count('a')+w.count('t')\n",
    "        GC=w.count('g')+w.count('c')\n",
    "        temp=(float(AT)*2) + (float(GC)*4)\n",
    "        meltingtemps.append(temp)\n",
    "    return meltingtemps\n",
    "\n",
    "#array of melting temperatures of all windows\n",
    "#turn into numpy array\n",
    "nptemps = np.array(primer_window_temps(primer))\n",
    "\n",
    "print(\"\")\n",
    "print(\"Primer stats: \")\n",
    "#Stats of melting temperatures\n",
    "print(\"Average melting temperature: \", np.mean(nptemps))\n",
    "print(\"Minimum melting temperature: \", np.min(nptemps))\n",
    "print(\"Maximum melting temperature: \", np.max(nptemps))\n",
    "print(\"Range: \", np.max(nptemps)-np.min(nptemps))"
   ]
  },
  {
   "cell_type": "markdown",
   "metadata": {},
   "source": [
    "# Part II:\n",
    "## Full Code"
   ]
  },
  {
   "cell_type": "code",
   "execution_count": 22,
   "metadata": {},
   "outputs": [
    {
     "name": "stdout",
     "output_type": "stream",
     "text": [
      "       PossibleSequence  GC_Content\n",
      "0    AAUUUUGCUAAAUCUUGU   22.222222\n",
      "56   AAUUUUGCAAAAAGUUGU   22.222222\n",
      "52   AAUUUUGCAAAAUCAUGU   22.222222\n",
      "50   AAUUUUGCAAAAUUCUGU   22.222222\n",
      "8    AAUUUUGCUAAAAGUUGU   22.222222\n",
      "..                  ...         ...\n",
      "319  AACUUCGCCAAAUCGUGC   50.000000\n",
      "331  AACUUCGCCAAGUCGUGC   55.555556\n",
      "379  AACUUCGCGAAGUCGUGC   55.555556\n",
      "335  AACUUCGCCAAGAGCUGC   55.555556\n",
      "383  AACUUCGCGAAGAGCUGC   55.555556\n",
      "\n",
      "[384 rows x 2 columns]\n"
     ]
    },
    {
     "data": {
      "text/plain": [
       "Int64Index([139, 143, 187, 191, 235, 239, 283, 287, 307, 311, 319, 323, 325,\n",
       "            327, 329, 330, 333, 334, 355, 359, 367, 371, 373, 375, 377, 378,\n",
       "            381, 382],\n",
       "           dtype='int64')"
      ]
     },
     "execution_count": 22,
     "metadata": {},
     "output_type": "execute_result"
    }
   ],
   "source": [
    "#reverse transcription function\n",
    "import itertools\n",
    "import numpy as np\n",
    "import pandas as pd\n",
    "\n",
    "proteinseq=\"NFAKSC\"\n",
    "\n",
    "#returns a dataframe with possible sequences and their corresponding GC percentage\n",
    "def comb_codons(sequence):\n",
    "    \n",
    "    #dictionary that maps peptide to possible codons\n",
    "    codonmap = {\"F\":[\"UUU\", \"UUC\"], \n",
    "       \"L\":[\"UUA\",\"UUG\", \"CUU\", \"CUC\", \"CUA\", \"CUG\"], \n",
    "       \"S\":[\"UCU\", \"UUC\", \"UCA\",\"UCG\", \"AGU\", \"AGC\"], \n",
    "       \"Y\":[\"UAU\", \"UAC\"], \n",
    "       \"STOP\":[\"UAA\", \"UAG\", \"UGA\"], \n",
    "       \"C\":[\"UGU\",\"UGC\"], \n",
    "       \"W\":[\"UGG\"], \n",
    "       \"P\":[\"CCU\", \"CCC\",\"CCA\",\"CCG\"],\n",
    "       \"H\":[\"CAU\", \"CAC\"],\n",
    "       \"Q\":[\"CAA\",\"CAG\"],\n",
    "       \"R\":[\"CGU\", \"CGC\", \"CGA\", \"CGG\", \"AGA\", \"AGG\"],\n",
    "       \"I\":[\"AUU\", \"AUC\", \"AUA\"],\n",
    "       \"M\":[\"AUG\"],\n",
    "       \"T\":[\"ACU\", \"ACC\", \"ACA\", \"ACG\"],\n",
    "       \"N\":[\"AAU\", \"AAC\"],\n",
    "       \"K\":[\"AAA\",\"AAG\"],\n",
    "       \"V\":[\"GUU\", \"GUC\", \"GUA\", \"GUG\"],\n",
    "       \"A\":[\"GCU\", \"GCC\", \"GCA\", \"GCG\"],\n",
    "       \"D\":[\"GAU\",\"GAC\"],\n",
    "       \"E\":[\"GAA\", \"GAG\"],\n",
    "       \"G\":[\"GGU\", \"GGC\", \"GGA\", \"GGG\"]\n",
    "      }\n",
    "\n",
    "    decoded=[codonmap[letter] for letter in proteinseq] #using a built-in itertools function\n",
    "    decoded_comb=list(itertools.product(*decoded)) #cartesian product of the sets, returns the possible combinations separated\n",
    "    #not as a string\n",
    "    \n",
    "    combs=[] #stores the possible sequences\n",
    "    combsGC=[] #stores their GC content\n",
    "    \n",
    "    for comb in decoded_comb:\n",
    "        seq=\"\".join(list(comb)) #joins the sets into one string\n",
    "        seqGC=100*(float(seq.count(\"G\")+seq.count(\"C\"))/float(len(seq))) #calculate GC content\n",
    "        combs.append(seq)\n",
    "        combsGC.append(seqGC)\n",
    "\n",
    "    dfcomb = pd.DataFrame() \n",
    "    dfcomb['PossibleSequence']=combs\n",
    "    dfcomb['GC_Content']=combsGC\n",
    "    return dfcomb #dataframe with all the info\n",
    "\n",
    "df=comb_codons(proteinseq)\n",
    "print(df.sort_values('GC_Content', ascending=True)) #sorted in ascending order\n",
    "\n",
    "def findclosest(val, df, col): #finds closest match to a given value in a df in a specific col\n",
    "    exact = df[df[col] == val]\n",
    "    if not exact.empty: #if there is an exact match to the value, return the index/eces of this match\n",
    "        return exact.index\n",
    "    else:\n",
    "        lower_ind = df[df[col] < val][col].idxmax()\n",
    "        upper_ind = df[df[col] > val][col].idxmin()\n",
    "        return [lower_ind, upper_ind]\n",
    "    \n",
    "findclosest(50, df, 'GC_Content')\n",
    "\n",
    "\n",
    "\n",
    "    "
   ]
  },
  {
   "cell_type": "code",
   "execution_count": null,
   "metadata": {},
   "outputs": [],
   "source": []
  }
 ],
 "metadata": {
  "kernelspec": {
   "display_name": "Python 3",
   "language": "python",
   "name": "python3"
  },
  "language_info": {
   "codemirror_mode": {
    "name": "ipython",
    "version": 3
   },
   "file_extension": ".py",
   "mimetype": "text/x-python",
   "name": "python",
   "nbconvert_exporter": "python",
   "pygments_lexer": "ipython3",
   "version": "3.8.5"
  }
 },
 "nbformat": 4,
 "nbformat_minor": 4
}
