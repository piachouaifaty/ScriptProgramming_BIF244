{
 "cells": [
  {
   "cell_type": "code",
   "execution_count": 144,
   "metadata": {},
   "outputs": [],
   "source": [
    "import numpy as np\n",
    "import pandas as pd\n",
    "import os\n",
    "import re\n",
    "from statistics import mean"
   ]
  },
  {
   "cell_type": "code",
   "execution_count": 131,
   "metadata": {},
   "outputs": [],
   "source": [
    "#FASTA file parser code\n",
    "\n",
    "file=\"FinalProject.fasta\"\n",
    "\n",
    "f=open(file)\n",
    "sequence_names=[]\n",
    "sequences=[]\n",
    "count=0\n",
    "seq=\"\"\n",
    "\n",
    "for line in f:\n",
    "    if line.startswith(\">\"):\n",
    "        sequence_names.append(line[1:].strip()) #to remove the > and \\n\n",
    "        count=count+1\n",
    "        sequences.append(\"\") #initializing the slot for the sequence\n",
    "    elif not line.startswith('#') and line!=\"\":\n",
    "        sequences[count-1]=sequences[count-1]+line.strip().replace('-',\"\")\n",
    "\n",
    "f.close()\n",
    "\n",
    "#initialize data\n",
    "data = {'ID':sequence_names,\n",
    "        'Sequence':sequences}\n",
    "  \n",
    "#dataframe\n",
    "dfseq = pd.DataFrame(data)\n",
    "\n",
    "#print\n",
    "dfseq\n",
    "dfseq=dfseq.set_index('ID')"
   ]
  },
  {
   "cell_type": "code",
   "execution_count": 132,
   "metadata": {},
   "outputs": [
    {
     "data": {
      "text/plain": [
       "6"
      ]
     },
     "execution_count": 132,
     "metadata": {},
     "output_type": "execute_result"
    }
   ],
   "source": [
    "#number of sequences in file\n",
    "len(dfseq)"
   ]
  },
  {
   "cell_type": "code",
   "execution_count": 133,
   "metadata": {},
   "outputs": [
    {
     "data": {
      "text/html": [
       "<div>\n",
       "<style scoped>\n",
       "    .dataframe tbody tr th:only-of-type {\n",
       "        vertical-align: middle;\n",
       "    }\n",
       "\n",
       "    .dataframe tbody tr th {\n",
       "        vertical-align: top;\n",
       "    }\n",
       "\n",
       "    .dataframe thead th {\n",
       "        text-align: right;\n",
       "    }\n",
       "</style>\n",
       "<table border=\"1\" class=\"dataframe\">\n",
       "  <thead>\n",
       "    <tr style=\"text-align: right;\">\n",
       "      <th></th>\n",
       "      <th>Sequence</th>\n",
       "      <th>Primer</th>\n",
       "      <th>Exons</th>\n",
       "      <th>Introns</th>\n",
       "    </tr>\n",
       "    <tr>\n",
       "      <th>ID</th>\n",
       "      <th></th>\n",
       "      <th></th>\n",
       "      <th></th>\n",
       "      <th></th>\n",
       "    </tr>\n",
       "  </thead>\n",
       "  <tbody>\n",
       "    <tr>\n",
       "      <th>HCN1</th>\n",
       "      <td>gccgaggggaggcgctggggcgcgagggctGAGCCGAGCTGAGCCT...</td>\n",
       "      <td>gccgaggggaggcgctggggcgcgagggct</td>\n",
       "      <td>[GAGCCGAGCTGAGCCTCGCCTAGCTCCGGCAGCCTCAGCTTCAGC...</td>\n",
       "      <td>[gtgagggctcccggtcgccgccccaccctcccttcaggcgcgccc...</td>\n",
       "    </tr>\n",
       "    <tr>\n",
       "      <th>HCN2</th>\n",
       "      <td>ccgccccgccccgcccccgcctcccccctCCCTCGGGCTCCGGCCG...</td>\n",
       "      <td>ccgccccgccccgcccccgcctcccccct</td>\n",
       "      <td>[CCCTCGGGCTCCGGCCGGCGGCGGCGGCGGCGGCTCCGCTCCGCA...</td>\n",
       "      <td>[gtaccgcctccgggagggccggtcggcgcgagggggcccggggag...</td>\n",
       "    </tr>\n",
       "    <tr>\n",
       "      <th>KCNA1</th>\n",
       "      <td>gggctgcgcttcgagacgcagctcaagaccCTGGCGCAGTTCCCCA...</td>\n",
       "      <td>gggctgcgcttcgagacgcagctcaagacc</td>\n",
       "      <td>[CTGGCGCAGTTCCCCAACACGCTGCTGGGCAACCCTAAGAAACGC...</td>\n",
       "      <td>[gtaagcatgtttgaatctgatacaatttattttataatcgcatgc...</td>\n",
       "    </tr>\n",
       "    <tr>\n",
       "      <th>KCNA2</th>\n",
       "      <td>agcgctgaccaagaaaggaagtggtgatggGGCACATAGAAGAGTG...</td>\n",
       "      <td>agcgctgaccaagaaaggaagtggtgatgg</td>\n",
       "      <td>[GGCACATAGAAGAGTGAGCCATCATCTGGTTTCCAGCGCCAAGAC...</td>\n",
       "      <td>[gtgagagaagaggaggggcagcaagggtgagcatgcatgtgtgga...</td>\n",
       "    </tr>\n",
       "    <tr>\n",
       "      <th>KCNS3</th>\n",
       "      <td>cctcgctctagcggggcgggaccgacggacAGACCGGCCGACGCGG...</td>\n",
       "      <td>cctcgctctagcggggcgggaccgacggac</td>\n",
       "      <td>[AGACCGGCCGACGCGGGCCACCCCGCTCTCCTCGCCGCCGCGGCG...</td>\n",
       "      <td>[gtacctggctggcgtccccacctccctgcgcgctccggagacttc...</td>\n",
       "    </tr>\n",
       "    <tr>\n",
       "      <th>KIR3</th>\n",
       "      <td>gcgcggccgcctgtctgcaccggcagcaccATGTCGCTCATGGTCG...</td>\n",
       "      <td>gcgcggccgcctgtctgcaccggcagcacc</td>\n",
       "      <td>[ATGTCGCTCATGGTCGTCAGCATGGCGTGTGTTG, GAGTCCACA...</td>\n",
       "      <td>[gtgagtcctggaaaggaatagagggagggagtgccacatcctcct...</td>\n",
       "    </tr>\n",
       "  </tbody>\n",
       "</table>\n",
       "</div>"
      ],
      "text/plain": [
       "                                                Sequence  \\\n",
       "ID                                                         \n",
       "HCN1   gccgaggggaggcgctggggcgcgagggctGAGCCGAGCTGAGCCT...   \n",
       "HCN2   ccgccccgccccgcccccgcctcccccctCCCTCGGGCTCCGGCCG...   \n",
       "KCNA1  gggctgcgcttcgagacgcagctcaagaccCTGGCGCAGTTCCCCA...   \n",
       "KCNA2  agcgctgaccaagaaaggaagtggtgatggGGCACATAGAAGAGTG...   \n",
       "KCNS3  cctcgctctagcggggcgggaccgacggacAGACCGGCCGACGCGG...   \n",
       "KIR3   gcgcggccgcctgtctgcaccggcagcaccATGTCGCTCATGGTCG...   \n",
       "\n",
       "                               Primer  \\\n",
       "ID                                      \n",
       "HCN1   gccgaggggaggcgctggggcgcgagggct   \n",
       "HCN2    ccgccccgccccgcccccgcctcccccct   \n",
       "KCNA1  gggctgcgcttcgagacgcagctcaagacc   \n",
       "KCNA2  agcgctgaccaagaaaggaagtggtgatgg   \n",
       "KCNS3  cctcgctctagcggggcgggaccgacggac   \n",
       "KIR3   gcgcggccgcctgtctgcaccggcagcacc   \n",
       "\n",
       "                                                   Exons  \\\n",
       "ID                                                         \n",
       "HCN1   [GAGCCGAGCTGAGCCTCGCCTAGCTCCGGCAGCCTCAGCTTCAGC...   \n",
       "HCN2   [CCCTCGGGCTCCGGCCGGCGGCGGCGGCGGCGGCTCCGCTCCGCA...   \n",
       "KCNA1  [CTGGCGCAGTTCCCCAACACGCTGCTGGGCAACCCTAAGAAACGC...   \n",
       "KCNA2  [GGCACATAGAAGAGTGAGCCATCATCTGGTTTCCAGCGCCAAGAC...   \n",
       "KCNS3  [AGACCGGCCGACGCGGGCCACCCCGCTCTCCTCGCCGCCGCGGCG...   \n",
       "KIR3   [ATGTCGCTCATGGTCGTCAGCATGGCGTGTGTTG, GAGTCCACA...   \n",
       "\n",
       "                                                 Introns  \n",
       "ID                                                        \n",
       "HCN1   [gtgagggctcccggtcgccgccccaccctcccttcaggcgcgccc...  \n",
       "HCN2   [gtaccgcctccgggagggccggtcggcgcgagggggcccggggag...  \n",
       "KCNA1  [gtaagcatgtttgaatctgatacaatttattttataatcgcatgc...  \n",
       "KCNA2  [gtgagagaagaggaggggcagcaagggtgagcatgcatgtgtgga...  \n",
       "KCNS3  [gtacctggctggcgtccccacctccctgcgcgctccggagacttc...  \n",
       "KIR3   [gtgagtcctggaaaggaatagagggagggagtgccacatcctcct...  "
      ]
     },
     "execution_count": 133,
     "metadata": {},
     "output_type": "execute_result"
    }
   ],
   "source": [
    "#extracting primers, introns, and exons, and storing then in pandas dataframe\n",
    "primers=[]\n",
    "exons=[]\n",
    "introns=[]\n",
    "\n",
    "for i in range(0, len(dfseq)):\n",
    "    p=re.findall('[a-z]+', dfseq.Sequence[i])[0] #the first lowercase is the primer\n",
    "    primers.append(p)\n",
    "    \n",
    "    ex=re.findall('[A-Z]+', dfseq.Sequence[i]) #all uppercases are exons\n",
    "    exons.append(ex)\n",
    "    \n",
    "    intr=re.findall('[a-z]+', dfseq.Sequence[i])[1:-1] #all lowercases are introns: exclude upperstream and lowerstream\n",
    "    introns.append(intr)\n",
    "    \n",
    "#adding primer, exons and introns to the dataframe\n",
    "dfseq['Primer']=primers\n",
    "dfseq['Exons']=exons\n",
    "dfseq['Introns']=introns\n",
    "\n",
    "#dataframe with seq ID and all its corresponding information\n",
    "dfseq"
   ]
  },
  {
   "cell_type": "code",
   "execution_count": 172,
   "metadata": {},
   "outputs": [
    {
     "data": {
      "text/plain": [
       "ID\n",
       "HCN1     7\n",
       "HCN2     7\n",
       "KCNA1    1\n",
       "KCNA2    4\n",
       "KCNS3    2\n",
       "KIR3     2\n",
       "Name: Introns, dtype: int64"
      ]
     },
     "execution_count": 172,
     "metadata": {},
     "output_type": "execute_result"
    }
   ],
   "source": [
    "#number of introns\n",
    "dfseq['Introns'].apply(len)"
   ]
  },
  {
   "cell_type": "code",
   "execution_count": 174,
   "metadata": {},
   "outputs": [
    {
     "data": {
      "text/plain": [
       "ID\n",
       "HCN1     8\n",
       "HCN2     8\n",
       "KCNA1    2\n",
       "KCNA2    5\n",
       "KCNS3    3\n",
       "KIR3     3\n",
       "Name: Exons, dtype: int64"
      ]
     },
     "execution_count": 174,
     "metadata": {},
     "output_type": "execute_result"
    }
   ],
   "source": [
    "#number of exons\n",
    "dfseq['Exons'].apply(len)"
   ]
  },
  {
   "cell_type": "code",
   "execution_count": 160,
   "metadata": {},
   "outputs": [],
   "source": [
    "#function that returns average string length in a list of strings\n",
    "#uses mean from statistics package\n",
    "\n",
    "def avgstrlen(list):\n",
    "    return mean([len(i) for i in list])"
   ]
  },
  {
   "cell_type": "code",
   "execution_count": 161,
   "metadata": {},
   "outputs": [
    {
     "data": {
      "text/plain": [
       "ID\n",
       "HCN1     61642.857143\n",
       "HCN2      3408.428571\n",
       "KCNA1     4062.000000\n",
       "KCNA2     8984.000000\n",
       "KCNS3    25975.500000\n",
       "KIR3      1668.000000\n",
       "Name: Introns, dtype: float64"
      ]
     },
     "execution_count": 161,
     "metadata": {},
     "output_type": "execute_result"
    }
   ],
   "source": [
    "#average intron length per sequence\n",
    "dfseq['Introns'].apply(avgstrlen)"
   ]
  },
  {
   "cell_type": "code",
   "execution_count": 162,
   "metadata": {},
   "outputs": [
    {
     "data": {
      "text/plain": [
       "ID\n",
       "HCN1     1241.625000\n",
       "HCN2      427.500000\n",
       "KCNA1    1309.000000\n",
       "KCNA2     391.800000\n",
       "KCNS3     780.333333\n",
       "KIR3      209.333333\n",
       "Name: Exons, dtype: float64"
      ]
     },
     "execution_count": 162,
     "metadata": {},
     "output_type": "execute_result"
    }
   ],
   "source": [
    "#average exon length per sequence\n",
    "dfseq['Exons'].apply(avgstrlen)"
   ]
  },
  {
   "cell_type": "code",
   "execution_count": 170,
   "metadata": {},
   "outputs": [
    {
     "data": {
      "text/plain": [
       "33.33333333333333"
      ]
     },
     "execution_count": 170,
     "metadata": {},
     "output_type": "execute_result"
    }
   ],
   "source": [
    "#function that calculates the percentage occurence of a letter in a list of strings\n",
    "def occurencepercentage(letter, list):\n",
    "    str=''.join(list).upper() #case insensitive, join list elements into a single string\n",
    "    freq=str.count(letter.upper()) #occurence of letter in string\n",
    "    perc=100*(float(freq)/float(len(str))) #percentage\n",
    "    return perc\n",
    "\n",
    "#test\n",
    "#ls=[\"hi\",\"hey\",\"heee\"]\n",
    "#occurencepercentage('h', ls)"
   ]
  },
  {
   "cell_type": "code",
   "execution_count": null,
   "metadata": {},
   "outputs": [],
   "source": []
  }
 ],
 "metadata": {
  "kernelspec": {
   "display_name": "Python 3",
   "language": "python",
   "name": "python3"
  },
  "language_info": {
   "codemirror_mode": {
    "name": "ipython",
    "version": 3
   },
   "file_extension": ".py",
   "mimetype": "text/x-python",
   "name": "python",
   "nbconvert_exporter": "python",
   "pygments_lexer": "ipython3",
   "version": "3.8.5"
  }
 },
 "nbformat": 4,
 "nbformat_minor": 4
}
