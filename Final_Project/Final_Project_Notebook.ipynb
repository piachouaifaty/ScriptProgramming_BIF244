{
 "cells": [
  {
   "cell_type": "code",
   "execution_count": 144,
   "metadata": {},
   "outputs": [],
   "source": [
    "import numpy as np\n",
    "import pandas as pd\n",
    "import os\n",
    "import re\n",
    "from statistics import mean"
   ]
  },
  {
   "cell_type": "code",
   "execution_count": 195,
   "metadata": {},
   "outputs": [],
   "source": [
    "#FASTA file parser code\n",
    "\n",
    "file=\"FinalProject.fasta\"\n",
    "\n",
    "f=open(file)\n",
    "sequence_names=[]\n",
    "sequences=[]\n",
    "count=0\n",
    "seq=\"\"\n",
    "\n",
    "for line in f:\n",
    "    if line.startswith(\">\"):\n",
    "        sequence_names.append(line[1:].strip()) #to remove the > and \\n\n",
    "        count=count+1\n",
    "        sequences.append(\"\") #initializing the slot for the sequence\n",
    "    elif not line.startswith('#') and line!=\"\":\n",
    "        sequences[count-1]=sequences[count-1]+line.strip().replace('-',\"\")\n",
    "\n",
    "f.close()\n",
    "\n",
    "#initialize data\n",
    "data = {'ID':sequence_names,\n",
    "        'Sequence':sequences}\n",
    "  \n",
    "#dataframe\n",
    "dfseq = pd.DataFrame(data)\n",
    "\n",
    "#print\n",
    "dfseq\n",
    "dfseq=dfseq.set_index('ID')"
   ]
  },
  {
   "cell_type": "code",
   "execution_count": 196,
   "metadata": {},
   "outputs": [
    {
     "data": {
      "text/plain": [
       "6"
      ]
     },
     "execution_count": 196,
     "metadata": {},
     "output_type": "execute_result"
    }
   ],
   "source": [
    "#number of sequences in file\n",
    "len(dfseq)"
   ]
  },
  {
   "cell_type": "code",
   "execution_count": 197,
   "metadata": {},
   "outputs": [
    {
     "data": {
      "text/html": [
       "<div>\n",
       "<style scoped>\n",
       "    .dataframe tbody tr th:only-of-type {\n",
       "        vertical-align: middle;\n",
       "    }\n",
       "\n",
       "    .dataframe tbody tr th {\n",
       "        vertical-align: top;\n",
       "    }\n",
       "\n",
       "    .dataframe thead th {\n",
       "        text-align: right;\n",
       "    }\n",
       "</style>\n",
       "<table border=\"1\" class=\"dataframe\">\n",
       "  <thead>\n",
       "    <tr style=\"text-align: right;\">\n",
       "      <th></th>\n",
       "      <th>Sequence</th>\n",
       "      <th>Primer</th>\n",
       "      <th>Exons</th>\n",
       "      <th>Introns</th>\n",
       "    </tr>\n",
       "    <tr>\n",
       "      <th>ID</th>\n",
       "      <th></th>\n",
       "      <th></th>\n",
       "      <th></th>\n",
       "      <th></th>\n",
       "    </tr>\n",
       "  </thead>\n",
       "  <tbody>\n",
       "    <tr>\n",
       "      <th>HCN1</th>\n",
       "      <td>gccgaggggaggcgctggggcgcgagggctGAGCCGAGCTGAGCCT...</td>\n",
       "      <td>gccgaggggaggcgctggggcgcgagggct</td>\n",
       "      <td>[GAGCCGAGCTGAGCCTCGCCTAGCTCCGGCAGCCTCAGCTTCAGC...</td>\n",
       "      <td>[gtgagggctcccggtcgccgccccaccctcccttcaggcgcgccc...</td>\n",
       "    </tr>\n",
       "    <tr>\n",
       "      <th>HCN2</th>\n",
       "      <td>ccgccccgccccgcccccgcctcccccctCCCTCGGGCTCCGGCCG...</td>\n",
       "      <td>ccgccccgccccgcccccgcctcccccct</td>\n",
       "      <td>[CCCTCGGGCTCCGGCCGGCGGCGGCGGCGGCGGCTCCGCTCCGCA...</td>\n",
       "      <td>[gtaccgcctccgggagggccggtcggcgcgagggggcccggggag...</td>\n",
       "    </tr>\n",
       "    <tr>\n",
       "      <th>KCNA1</th>\n",
       "      <td>gggctgcgcttcgagacgcagctcaagaccCTGGCGCAGTTCCCCA...</td>\n",
       "      <td>gggctgcgcttcgagacgcagctcaagacc</td>\n",
       "      <td>[CTGGCGCAGTTCCCCAACACGCTGCTGGGCAACCCTAAGAAACGC...</td>\n",
       "      <td>[gtaagcatgtttgaatctgatacaatttattttataatcgcatgc...</td>\n",
       "    </tr>\n",
       "    <tr>\n",
       "      <th>KCNA2</th>\n",
       "      <td>agcgctgaccaagaaaggaagtggtgatggGGCACATAGAAGAGTG...</td>\n",
       "      <td>agcgctgaccaagaaaggaagtggtgatgg</td>\n",
       "      <td>[GGCACATAGAAGAGTGAGCCATCATCTGGTTTCCAGCGCCAAGAC...</td>\n",
       "      <td>[gtgagagaagaggaggggcagcaagggtgagcatgcatgtgtgga...</td>\n",
       "    </tr>\n",
       "    <tr>\n",
       "      <th>KCNS3</th>\n",
       "      <td>cctcgctctagcggggcgggaccgacggacAGACCGGCCGACGCGG...</td>\n",
       "      <td>cctcgctctagcggggcgggaccgacggac</td>\n",
       "      <td>[AGACCGGCCGACGCGGGCCACCCCGCTCTCCTCGCCGCCGCGGCG...</td>\n",
       "      <td>[gtacctggctggcgtccccacctccctgcgcgctccggagacttc...</td>\n",
       "    </tr>\n",
       "    <tr>\n",
       "      <th>KIR3</th>\n",
       "      <td>gcgcggccgcctgtctgcaccggcagcaccATGTCGCTCATGGTCG...</td>\n",
       "      <td>gcgcggccgcctgtctgcaccggcagcacc</td>\n",
       "      <td>[ATGTCGCTCATGGTCGTCAGCATGGCGTGTGTTG, GAGTCCACA...</td>\n",
       "      <td>[gtgagtcctggaaaggaatagagggagggagtgccacatcctcct...</td>\n",
       "    </tr>\n",
       "  </tbody>\n",
       "</table>\n",
       "</div>"
      ],
      "text/plain": [
       "                                                Sequence  \\\n",
       "ID                                                         \n",
       "HCN1   gccgaggggaggcgctggggcgcgagggctGAGCCGAGCTGAGCCT...   \n",
       "HCN2   ccgccccgccccgcccccgcctcccccctCCCTCGGGCTCCGGCCG...   \n",
       "KCNA1  gggctgcgcttcgagacgcagctcaagaccCTGGCGCAGTTCCCCA...   \n",
       "KCNA2  agcgctgaccaagaaaggaagtggtgatggGGCACATAGAAGAGTG...   \n",
       "KCNS3  cctcgctctagcggggcgggaccgacggacAGACCGGCCGACGCGG...   \n",
       "KIR3   gcgcggccgcctgtctgcaccggcagcaccATGTCGCTCATGGTCG...   \n",
       "\n",
       "                               Primer  \\\n",
       "ID                                      \n",
       "HCN1   gccgaggggaggcgctggggcgcgagggct   \n",
       "HCN2    ccgccccgccccgcccccgcctcccccct   \n",
       "KCNA1  gggctgcgcttcgagacgcagctcaagacc   \n",
       "KCNA2  agcgctgaccaagaaaggaagtggtgatgg   \n",
       "KCNS3  cctcgctctagcggggcgggaccgacggac   \n",
       "KIR3   gcgcggccgcctgtctgcaccggcagcacc   \n",
       "\n",
       "                                                   Exons  \\\n",
       "ID                                                         \n",
       "HCN1   [GAGCCGAGCTGAGCCTCGCCTAGCTCCGGCAGCCTCAGCTTCAGC...   \n",
       "HCN2   [CCCTCGGGCTCCGGCCGGCGGCGGCGGCGGCGGCTCCGCTCCGCA...   \n",
       "KCNA1  [CTGGCGCAGTTCCCCAACACGCTGCTGGGCAACCCTAAGAAACGC...   \n",
       "KCNA2  [GGCACATAGAAGAGTGAGCCATCATCTGGTTTCCAGCGCCAAGAC...   \n",
       "KCNS3  [AGACCGGCCGACGCGGGCCACCCCGCTCTCCTCGCCGCCGCGGCG...   \n",
       "KIR3   [ATGTCGCTCATGGTCGTCAGCATGGCGTGTGTTG, GAGTCCACA...   \n",
       "\n",
       "                                                 Introns  \n",
       "ID                                                        \n",
       "HCN1   [gtgagggctcccggtcgccgccccaccctcccttcaggcgcgccc...  \n",
       "HCN2   [gtaccgcctccgggagggccggtcggcgcgagggggcccggggag...  \n",
       "KCNA1  [gtaagcatgtttgaatctgatacaatttattttataatcgcatgc...  \n",
       "KCNA2  [gtgagagaagaggaggggcagcaagggtgagcatgcatgtgtgga...  \n",
       "KCNS3  [gtacctggctggcgtccccacctccctgcgcgctccggagacttc...  \n",
       "KIR3   [gtgagtcctggaaaggaatagagggagggagtgccacatcctcct...  "
      ]
     },
     "execution_count": 197,
     "metadata": {},
     "output_type": "execute_result"
    }
   ],
   "source": [
    "#extracting primers, introns, and exons, and storing then in pandas dataframe\n",
    "primers=[]\n",
    "exons=[]\n",
    "introns=[]\n",
    "\n",
    "for i in range(0, len(dfseq)):\n",
    "    p=re.findall('[a-z]+', dfseq.Sequence[i])[0] #the first lowercase is the primer\n",
    "    primers.append(p)\n",
    "    \n",
    "    ex=re.findall('[A-Z]+', dfseq.Sequence[i]) #all uppercases are exons\n",
    "    exons.append(ex)\n",
    "    \n",
    "    intr=re.findall('[a-z]+', dfseq.Sequence[i])[1:-1] #all lowercases are introns: exclude upperstream and lowerstream\n",
    "    introns.append(intr)\n",
    "    \n",
    "#adding primer, exons and introns to the dataframe\n",
    "dfseq['Primer']=primers\n",
    "dfseq['Exons']=exons\n",
    "dfseq['Introns']=introns\n",
    "\n",
    "#dataframe with seq ID and all its corresponding information\n",
    "dfseq"
   ]
  },
  {
   "cell_type": "code",
   "execution_count": 220,
   "metadata": {},
   "outputs": [
    {
     "data": {
      "text/plain": [
       "ID\n",
       "HCN1     7\n",
       "HCN2     7\n",
       "KCNA1    1\n",
       "KCNA2    4\n",
       "KCNS3    2\n",
       "KIR3     2\n",
       "Name: Introns, dtype: int64"
      ]
     },
     "execution_count": 220,
     "metadata": {},
     "output_type": "execute_result"
    }
   ],
   "source": [
    "#number of introns\n",
    "dfseq['Introns'].apply(len)"
   ]
  },
  {
   "cell_type": "code",
   "execution_count": 199,
   "metadata": {},
   "outputs": [
    {
     "data": {
      "text/plain": [
       "ID\n",
       "HCN1     8\n",
       "HCN2     8\n",
       "KCNA1    2\n",
       "KCNA2    5\n",
       "KCNS3    3\n",
       "KIR3     3\n",
       "Name: Exons, dtype: int64"
      ]
     },
     "execution_count": 199,
     "metadata": {},
     "output_type": "execute_result"
    }
   ],
   "source": [
    "#number of exons\n",
    "dfseq['Exons'].apply(len)"
   ]
  },
  {
   "cell_type": "code",
   "execution_count": 200,
   "metadata": {},
   "outputs": [],
   "source": [
    "#function that returns average string length in a list of strings\n",
    "#uses mean from statistics package\n",
    "\n",
    "def avgstrlen(list):\n",
    "    return mean([len(i) for i in list])"
   ]
  },
  {
   "cell_type": "code",
   "execution_count": 201,
   "metadata": {},
   "outputs": [
    {
     "data": {
      "text/plain": [
       "ID\n",
       "HCN1     61642.857143\n",
       "HCN2      3408.428571\n",
       "KCNA1     4062.000000\n",
       "KCNA2     8984.000000\n",
       "KCNS3    25975.500000\n",
       "KIR3      1668.000000\n",
       "Name: Introns, dtype: float64"
      ]
     },
     "execution_count": 201,
     "metadata": {},
     "output_type": "execute_result"
    }
   ],
   "source": [
    "#average intron length per sequence\n",
    "dfseq['Introns'].apply(avgstrlen)"
   ]
  },
  {
   "cell_type": "code",
   "execution_count": 202,
   "metadata": {},
   "outputs": [
    {
     "data": {
      "text/plain": [
       "ID\n",
       "HCN1     1241.625000\n",
       "HCN2      427.500000\n",
       "KCNA1    1309.000000\n",
       "KCNA2     391.800000\n",
       "KCNS3     780.333333\n",
       "KIR3      209.333333\n",
       "Name: Exons, dtype: float64"
      ]
     },
     "execution_count": 202,
     "metadata": {},
     "output_type": "execute_result"
    }
   ],
   "source": [
    "#average exon length per sequence\n",
    "dfseq['Exons'].apply(avgstrlen)"
   ]
  },
  {
   "cell_type": "code",
   "execution_count": 203,
   "metadata": {},
   "outputs": [],
   "source": [
    "#function that calculates the percentage occurence of a letter in a list of strings\n",
    "\n",
    "def occurencepercentage(letter, list):\n",
    "    str=''.join(list).upper() #case insensitive, join list elements into a single string\n",
    "    freq=str.count(letter.upper()) #occurence of letter in string\n",
    "    perc=100*(float(freq)/float(len(str))) #percentage\n",
    "    return perc\n",
    "\n",
    "#test\n",
    "#ls=[\"hi\",\"hey\",\"heee\"]\n",
    "#occurencepercentage('h', ls)\n",
    "\n",
    "#functions that calculate percentage occurence of each nucleotide (to be used with apply)\n",
    "def occurenceA(list):\n",
    "    return occurencepercentage('A', list)\n",
    "\n",
    "def occurenceG(list):\n",
    "    return occurencepercentage('G', list)\n",
    "\n",
    "def occurenceC(list):\n",
    "    return occurencepercentage('C', list)\n",
    "\n",
    "def occurenceT(list):\n",
    "    return occurencepercentage('T', list)"
   ]
  },
  {
   "cell_type": "code",
   "execution_count": 207,
   "metadata": {},
   "outputs": [
    {
     "data": {
      "text/plain": [
       "ID\n",
       "HCN1     16.936732\n",
       "HCN2     28.710340\n",
       "KCNA1    20.827179\n",
       "KCNA2    23.216273\n",
       "KCNS3    19.254682\n",
       "KIR3     20.233813\n",
       "Name: Introns, dtype: float64"
      ]
     },
     "execution_count": 207,
     "metadata": {},
     "output_type": "execute_result"
    }
   ],
   "source": [
    "d=dfseq['Introns'].apply(occurenceC)\n",
    "d"
   ]
  },
  {
   "cell_type": "code",
   "execution_count": 208,
   "metadata": {},
   "outputs": [
    {
     "data": {
      "text/plain": [
       "16.936732329084588"
      ]
     },
     "execution_count": 208,
     "metadata": {},
     "output_type": "execute_result"
    }
   ],
   "source": [
    "d[0]"
   ]
  },
  {
   "cell_type": "code",
   "execution_count": 226,
   "metadata": {},
   "outputs": [
    {
     "data": {
      "text/plain": [
       "['HCN1', 'HCN2', 'KCNA1', 'KCNA2', 'KCNS3', 'KIR3']"
      ]
     },
     "execution_count": 226,
     "metadata": {},
     "output_type": "execute_result"
    }
   ],
   "source": [
    "#sequence IDS\n",
    "list(dfseq.index)"
   ]
  },
  {
   "cell_type": "code",
   "execution_count": 232,
   "metadata": {},
   "outputs": [],
   "source": [
    "#number of exons\n",
    "dfseq['NumExons']=dfseq['Exons'].apply(len).tolist()\n",
    "\n",
    "#number of introns\n",
    "dfseq['NumIntrons']=dfseq['Introns'].apply(len).tolist()\n",
    "\n",
    "#AvgExonLength\n",
    "dfseq['AvgExonLength']=dfseq['Exons'].apply(avgstrlen).tolist()\n",
    "#AvgIntronLength\n",
    "dfseq['AvgIntronLength']=dfseq['Introns'].apply(avgstrlen).tolist()\n",
    "\n",
    "#%A_Exon\n",
    "dfseq['%A_Exon']=dfseq['Exons'].apply(occurenceA).tolist()\n",
    "#%C_Exon\n",
    "dfseq['%C_Exon']=dfseq['Exons'].apply(occurenceC).tolist()\n",
    "#%G_Exon\n",
    "dfseq['%G_Exon']=dfseq['Exons'].apply(occurenceG).tolist()\n",
    "#%T_Exon\n",
    "dfseq['%T_Exon']=dfseq['Exons'].apply(occurenceT).tolist()\n",
    "\n",
    "#%A_Intron\n",
    "dfseq['%A_Intron']=dfseq['Introns'].apply(occurenceA).tolist()\n",
    "#%C_Intron\n",
    "dfseq['%C_Intron']=dfseq['Introns'].apply(occurenceC).tolist()\n",
    "#%G_Intron\n",
    "dfseq['%G_Intron']=dfseq['Introns'].apply(occurenceG).tolist()\n",
    "#%T_Intron\n",
    "dfseq['%T_Intron']=dfseq['Introns'].apply(occurenceT).tolist()"
   ]
  },
  {
   "cell_type": "code",
   "execution_count": 233,
   "metadata": {},
   "outputs": [
    {
     "data": {
      "text/html": [
       "<div>\n",
       "<style scoped>\n",
       "    .dataframe tbody tr th:only-of-type {\n",
       "        vertical-align: middle;\n",
       "    }\n",
       "\n",
       "    .dataframe tbody tr th {\n",
       "        vertical-align: top;\n",
       "    }\n",
       "\n",
       "    .dataframe thead th {\n",
       "        text-align: right;\n",
       "    }\n",
       "</style>\n",
       "<table border=\"1\" class=\"dataframe\">\n",
       "  <thead>\n",
       "    <tr style=\"text-align: right;\">\n",
       "      <th></th>\n",
       "      <th>Sequence</th>\n",
       "      <th>Primer</th>\n",
       "      <th>Exons</th>\n",
       "      <th>Introns</th>\n",
       "      <th>NumExons</th>\n",
       "      <th>NumIntrons</th>\n",
       "      <th>AvgExonLength</th>\n",
       "      <th>AvgIntronLength</th>\n",
       "      <th>%A_Exon</th>\n",
       "      <th>%C_Exon</th>\n",
       "      <th>%G_Exon</th>\n",
       "      <th>%T_Exon</th>\n",
       "      <th>%A_Intron</th>\n",
       "      <th>%C_Intron</th>\n",
       "      <th>%G_Intron</th>\n",
       "      <th>%T_Intron</th>\n",
       "    </tr>\n",
       "    <tr>\n",
       "      <th>ID</th>\n",
       "      <th></th>\n",
       "      <th></th>\n",
       "      <th></th>\n",
       "      <th></th>\n",
       "      <th></th>\n",
       "      <th></th>\n",
       "      <th></th>\n",
       "      <th></th>\n",
       "      <th></th>\n",
       "      <th></th>\n",
       "      <th></th>\n",
       "      <th></th>\n",
       "      <th></th>\n",
       "      <th></th>\n",
       "      <th></th>\n",
       "      <th></th>\n",
       "    </tr>\n",
       "  </thead>\n",
       "  <tbody>\n",
       "    <tr>\n",
       "      <th>HCN1</th>\n",
       "      <td>gccgaggggaggcgctggggcgcgagggctGAGCCGAGCTGAGCCT...</td>\n",
       "      <td>gccgaggggaggcgctggggcgcgagggct</td>\n",
       "      <td>[GAGCCGAGCTGAGCCTCGCCTAGCTCCGGCAGCCTCAGCTTCAGC...</td>\n",
       "      <td>[gtgagggctcccggtcgccgccccaccctcccttcaggcgcgccc...</td>\n",
       "      <td>8</td>\n",
       "      <td>7</td>\n",
       "      <td>1241.625000</td>\n",
       "      <td>61642.857143</td>\n",
       "      <td>30.252693</td>\n",
       "      <td>20.215443</td>\n",
       "      <td>20.004027</td>\n",
       "      <td>29.527837</td>\n",
       "      <td>32.098494</td>\n",
       "      <td>16.936732</td>\n",
       "      <td>17.690151</td>\n",
       "      <td>33.274623</td>\n",
       "    </tr>\n",
       "    <tr>\n",
       "      <th>HCN2</th>\n",
       "      <td>ccgccccgccccgcccccgcctcccccctCCCTCGGGCTCCGGCCG...</td>\n",
       "      <td>ccgccccgccccgcccccgcctcccccct</td>\n",
       "      <td>[CCCTCGGGCTCCGGCCGGCGGCGGCGGCGGCGGCTCCGCTCCGCA...</td>\n",
       "      <td>[gtaccgcctccgggagggccggtcggcgcgagggggcccggggag...</td>\n",
       "      <td>8</td>\n",
       "      <td>7</td>\n",
       "      <td>427.500000</td>\n",
       "      <td>3408.428571</td>\n",
       "      <td>15.116959</td>\n",
       "      <td>38.713450</td>\n",
       "      <td>32.105263</td>\n",
       "      <td>14.064327</td>\n",
       "      <td>17.527977</td>\n",
       "      <td>28.710340</td>\n",
       "      <td>33.345907</td>\n",
       "      <td>20.415776</td>\n",
       "    </tr>\n",
       "    <tr>\n",
       "      <th>KCNA1</th>\n",
       "      <td>gggctgcgcttcgagacgcagctcaagaccCTGGCGCAGTTCCCCA...</td>\n",
       "      <td>gggctgcgcttcgagacgcagctcaagacc</td>\n",
       "      <td>[CTGGCGCAGTTCCCCAACACGCTGCTGGGCAACCCTAAGAAACGC...</td>\n",
       "      <td>[gtaagcatgtttgaatctgatacaatttattttataatcgcatgc...</td>\n",
       "      <td>2</td>\n",
       "      <td>1</td>\n",
       "      <td>1309.000000</td>\n",
       "      <td>4062.000000</td>\n",
       "      <td>27.731092</td>\n",
       "      <td>24.407945</td>\n",
       "      <td>21.275783</td>\n",
       "      <td>26.585180</td>\n",
       "      <td>28.385032</td>\n",
       "      <td>20.827179</td>\n",
       "      <td>20.704087</td>\n",
       "      <td>30.083703</td>\n",
       "    </tr>\n",
       "    <tr>\n",
       "      <th>KCNA2</th>\n",
       "      <td>agcgctgaccaagaaaggaagtggtgatggGGCACATAGAAGAGTG...</td>\n",
       "      <td>agcgctgaccaagaaaggaagtggtgatgg</td>\n",
       "      <td>[GGCACATAGAAGAGTGAGCCATCATCTGGTTTCCAGCGCCAAGAC...</td>\n",
       "      <td>[gtgagagaagaggaggggcagcaagggtgagcatgcatgtgtgga...</td>\n",
       "      <td>5</td>\n",
       "      <td>4</td>\n",
       "      <td>391.800000</td>\n",
       "      <td>8984.000000</td>\n",
       "      <td>24.400204</td>\n",
       "      <td>26.901480</td>\n",
       "      <td>24.196018</td>\n",
       "      <td>24.502297</td>\n",
       "      <td>25.486977</td>\n",
       "      <td>23.216273</td>\n",
       "      <td>23.413847</td>\n",
       "      <td>27.882903</td>\n",
       "    </tr>\n",
       "    <tr>\n",
       "      <th>KCNS3</th>\n",
       "      <td>cctcgctctagcggggcgggaccgacggacAGACCGGCCGACGCGG...</td>\n",
       "      <td>cctcgctctagcggggcgggaccgacggac</td>\n",
       "      <td>[AGACCGGCCGACGCGGGCCACCCCGCTCTCCTCGCCGCCGCGGCG...</td>\n",
       "      <td>[gtacctggctggcgtccccacctccctgcgcgctccggagacttc...</td>\n",
       "      <td>3</td>\n",
       "      <td>2</td>\n",
       "      <td>780.333333</td>\n",
       "      <td>25975.500000</td>\n",
       "      <td>23.878684</td>\n",
       "      <td>23.964118</td>\n",
       "      <td>25.544639</td>\n",
       "      <td>26.612559</td>\n",
       "      <td>25.373910</td>\n",
       "      <td>19.254682</td>\n",
       "      <td>21.911032</td>\n",
       "      <td>33.460376</td>\n",
       "    </tr>\n",
       "    <tr>\n",
       "      <th>KIR3</th>\n",
       "      <td>gcgcggccgcctgtctgcaccggcagcaccATGTCGCTCATGGTCG...</td>\n",
       "      <td>gcgcggccgcctgtctgcaccggcagcacc</td>\n",
       "      <td>[ATGTCGCTCATGGTCGTCAGCATGGCGTGTGTTG, GAGTCCACA...</td>\n",
       "      <td>[gtgagtcctggaaaggaatagagggagggagtgccacatcctcct...</td>\n",
       "      <td>3</td>\n",
       "      <td>2</td>\n",
       "      <td>209.333333</td>\n",
       "      <td>1668.000000</td>\n",
       "      <td>20.541401</td>\n",
       "      <td>30.095541</td>\n",
       "      <td>25.000000</td>\n",
       "      <td>24.363057</td>\n",
       "      <td>32.224221</td>\n",
       "      <td>20.233813</td>\n",
       "      <td>27.607914</td>\n",
       "      <td>19.934053</td>\n",
       "    </tr>\n",
       "  </tbody>\n",
       "</table>\n",
       "</div>"
      ],
      "text/plain": [
       "                                                Sequence  \\\n",
       "ID                                                         \n",
       "HCN1   gccgaggggaggcgctggggcgcgagggctGAGCCGAGCTGAGCCT...   \n",
       "HCN2   ccgccccgccccgcccccgcctcccccctCCCTCGGGCTCCGGCCG...   \n",
       "KCNA1  gggctgcgcttcgagacgcagctcaagaccCTGGCGCAGTTCCCCA...   \n",
       "KCNA2  agcgctgaccaagaaaggaagtggtgatggGGCACATAGAAGAGTG...   \n",
       "KCNS3  cctcgctctagcggggcgggaccgacggacAGACCGGCCGACGCGG...   \n",
       "KIR3   gcgcggccgcctgtctgcaccggcagcaccATGTCGCTCATGGTCG...   \n",
       "\n",
       "                               Primer  \\\n",
       "ID                                      \n",
       "HCN1   gccgaggggaggcgctggggcgcgagggct   \n",
       "HCN2    ccgccccgccccgcccccgcctcccccct   \n",
       "KCNA1  gggctgcgcttcgagacgcagctcaagacc   \n",
       "KCNA2  agcgctgaccaagaaaggaagtggtgatgg   \n",
       "KCNS3  cctcgctctagcggggcgggaccgacggac   \n",
       "KIR3   gcgcggccgcctgtctgcaccggcagcacc   \n",
       "\n",
       "                                                   Exons  \\\n",
       "ID                                                         \n",
       "HCN1   [GAGCCGAGCTGAGCCTCGCCTAGCTCCGGCAGCCTCAGCTTCAGC...   \n",
       "HCN2   [CCCTCGGGCTCCGGCCGGCGGCGGCGGCGGCGGCTCCGCTCCGCA...   \n",
       "KCNA1  [CTGGCGCAGTTCCCCAACACGCTGCTGGGCAACCCTAAGAAACGC...   \n",
       "KCNA2  [GGCACATAGAAGAGTGAGCCATCATCTGGTTTCCAGCGCCAAGAC...   \n",
       "KCNS3  [AGACCGGCCGACGCGGGCCACCCCGCTCTCCTCGCCGCCGCGGCG...   \n",
       "KIR3   [ATGTCGCTCATGGTCGTCAGCATGGCGTGTGTTG, GAGTCCACA...   \n",
       "\n",
       "                                                 Introns  NumExons  \\\n",
       "ID                                                                   \n",
       "HCN1   [gtgagggctcccggtcgccgccccaccctcccttcaggcgcgccc...         8   \n",
       "HCN2   [gtaccgcctccgggagggccggtcggcgcgagggggcccggggag...         8   \n",
       "KCNA1  [gtaagcatgtttgaatctgatacaatttattttataatcgcatgc...         2   \n",
       "KCNA2  [gtgagagaagaggaggggcagcaagggtgagcatgcatgtgtgga...         5   \n",
       "KCNS3  [gtacctggctggcgtccccacctccctgcgcgctccggagacttc...         3   \n",
       "KIR3   [gtgagtcctggaaaggaatagagggagggagtgccacatcctcct...         3   \n",
       "\n",
       "       NumIntrons  AvgExonLength  AvgIntronLength    %A_Exon    %C_Exon  \\\n",
       "ID                                                                        \n",
       "HCN1            7    1241.625000     61642.857143  30.252693  20.215443   \n",
       "HCN2            7     427.500000      3408.428571  15.116959  38.713450   \n",
       "KCNA1           1    1309.000000      4062.000000  27.731092  24.407945   \n",
       "KCNA2           4     391.800000      8984.000000  24.400204  26.901480   \n",
       "KCNS3           2     780.333333     25975.500000  23.878684  23.964118   \n",
       "KIR3            2     209.333333      1668.000000  20.541401  30.095541   \n",
       "\n",
       "         %G_Exon    %T_Exon  %A_Intron  %C_Intron  %G_Intron  %T_Intron  \n",
       "ID                                                                       \n",
       "HCN1   20.004027  29.527837  32.098494  16.936732  17.690151  33.274623  \n",
       "HCN2   32.105263  14.064327  17.527977  28.710340  33.345907  20.415776  \n",
       "KCNA1  21.275783  26.585180  28.385032  20.827179  20.704087  30.083703  \n",
       "KCNA2  24.196018  24.502297  25.486977  23.216273  23.413847  27.882903  \n",
       "KCNS3  25.544639  26.612559  25.373910  19.254682  21.911032  33.460376  \n",
       "KIR3   25.000000  24.363057  32.224221  20.233813  27.607914  19.934053  "
      ]
     },
     "execution_count": 233,
     "metadata": {},
     "output_type": "execute_result"
    }
   ],
   "source": [
    "dfseq"
   ]
  },
  {
   "cell_type": "code",
   "execution_count": 235,
   "metadata": {},
   "outputs": [],
   "source": [
    "dfseqstat=dfseq[['NumExons','NumIntrons', 'AvgExonLength', 'AvgIntronLength', '%A_Exon', '%C_Exon', '%G_Exon', '%T_Exon', '%A_Intron', '%C_Intron','%G_Intron','%T_Intron']]"
   ]
  },
  {
   "cell_type": "code",
   "execution_count": 245,
   "metadata": {},
   "outputs": [],
   "source": [
    "dfseqstat=dfseqstat.round()"
   ]
  },
  {
   "cell_type": "code",
   "execution_count": 250,
   "metadata": {},
   "outputs": [],
   "source": [
    "#Write to DNAStats.txt\n",
    "filename=file+'DNAStats.txt'\n",
    "dfseqstat.to_csv(filename, header=True, index=True, sep='\\t')"
   ]
  },
  {
   "cell_type": "code",
   "execution_count": 251,
   "metadata": {},
   "outputs": [
    {
     "name": "stdout",
     "output_type": "stream",
     "text": [
      "       NumExons  NumIntrons  AvgExonLength  AvgIntronLength  %A_Exon  %C_Exon  \\\n",
      "ID                                                                              \n",
      "HCN1          8           7         1242.0          61643.0     30.0     20.0   \n",
      "HCN2          8           7          428.0           3408.0     15.0     39.0   \n",
      "KCNA1         2           1         1309.0           4062.0     28.0     24.0   \n",
      "KCNA2         5           4          392.0           8984.0     24.0     27.0   \n",
      "KCNS3         3           2          780.0          25976.0     24.0     24.0   \n",
      "KIR3          3           2          209.0           1668.0     21.0     30.0   \n",
      "\n",
      "       %G_Exon  %T_Exon  %A_Intron  %C_Intron  %G_Intron  %T_Intron  \n",
      "ID                                                                   \n",
      "HCN1      20.0     30.0       32.0       17.0       18.0       33.0  \n",
      "HCN2      32.0     14.0       18.0       29.0       33.0       20.0  \n",
      "KCNA1     21.0     27.0       28.0       21.0       21.0       30.0  \n",
      "KCNA2     24.0     25.0       25.0       23.0       23.0       28.0  \n",
      "KCNS3     26.0     27.0       25.0       19.0       22.0       33.0  \n",
      "KIR3      25.0     24.0       32.0       20.0       28.0       20.0  \n"
     ]
    }
   ],
   "source": [
    "print(dfseqstat)"
   ]
  },
  {
   "cell_type": "code",
   "execution_count": null,
   "metadata": {},
   "outputs": [],
   "source": [
    "#SINGLE FUNCTION THAT DOES ALL THE ABOVE\n",
    "\n"
   ]
  }
 ],
 "metadata": {
  "kernelspec": {
   "display_name": "Python 3",
   "language": "python",
   "name": "python3"
  },
  "language_info": {
   "codemirror_mode": {
    "name": "ipython",
    "version": 3
   },
   "file_extension": ".py",
   "mimetype": "text/x-python",
   "name": "python",
   "nbconvert_exporter": "python",
   "pygments_lexer": "ipython3",
   "version": "3.8.5"
  }
 },
 "nbformat": 4,
 "nbformat_minor": 4
}
