{
 "cells": [
  {
   "cell_type": "code",
   "execution_count": 93,
   "metadata": {},
   "outputs": [],
   "source": [
    "# !/usr/bin/python3"
   ]
  },
  {
   "cell_type": "code",
   "execution_count": 94,
   "metadata": {},
   "outputs": [],
   "source": [
    "import random\n",
    "import os"
   ]
  },
  {
   "cell_type": "code",
   "execution_count": 95,
   "metadata": {},
   "outputs": [
    {
     "name": "stdout",
     "output_type": "stream",
     "text": [
      "Hello\n",
      "This is number 1\n"
     ]
    }
   ],
   "source": [
    "print(\"Hello\")\n",
    "print(\"This\",\"is\",\"number\", 1) #default delimiter is space"
   ]
  },
  {
   "cell_type": "code",
   "execution_count": 96,
   "metadata": {},
   "outputs": [
    {
     "name": "stdout",
     "output_type": "stream",
     "text": [
      "8\n"
     ]
    }
   ],
   "source": [
    "x = 8 #variable names are case-sensitive\n",
    "print(x)"
   ]
  },
  {
   "cell_type": "code",
   "execution_count": 97,
   "metadata": {},
   "outputs": [
    {
     "name": "stdout",
     "output_type": "stream",
     "text": [
      "Line1\n",
      "Line2\n",
      "\\Line3\n"
     ]
    }
   ],
   "source": [
    "#escape sequences\n",
    "print(\"Line1\\nLine2\\n\\\\Line3\")"
   ]
  },
  {
   "cell_type": "code",
   "execution_count": 98,
   "metadata": {},
   "outputs": [
    {
     "name": "stdout",
     "output_type": "stream",
     "text": [
      "5\n"
     ]
    },
    {
     "data": {
      "text/plain": [
       "int"
      ]
     },
     "execution_count": 98,
     "metadata": {},
     "output_type": "execute_result"
    }
   ],
   "source": [
    "#Variable types are automatically inferred\n",
    "num1=2\n",
    "num2=3\n",
    "num=num1+num2\n",
    "print(num)\n",
    "type(num) #to check the type of a variable"
   ]
  },
  {
   "cell_type": "code",
   "execution_count": 99,
   "metadata": {},
   "outputs": [
    {
     "data": {
      "text/plain": [
       "30"
      ]
     },
     "execution_count": 99,
     "metadata": {},
     "output_type": "execute_result"
    }
   ],
   "source": [
    "10+20"
   ]
  },
  {
   "cell_type": "code",
   "execution_count": 100,
   "metadata": {},
   "outputs": [
    {
     "data": {
      "text/plain": [
       "30"
      ]
     },
     "execution_count": 100,
     "metadata": {},
     "output_type": "execute_result"
    }
   ],
   "source": [
    "_ #the underscore saves the last value that we computed/had"
   ]
  },
  {
   "cell_type": "code",
   "execution_count": 101,
   "metadata": {},
   "outputs": [],
   "source": [
    "x += 1 #to increment, cannot use x++"
   ]
  },
  {
   "cell_type": "code",
   "execution_count": 102,
   "metadata": {},
   "outputs": [
    {
     "name": "stdout",
     "output_type": "stream",
     "text": [
      "strstr\n",
      "HellowzHellowzHellowzHellowzHellowz\n"
     ]
    }
   ],
   "source": [
    "print(\"str\" * 2) #to print something twice\n",
    "x=\"Hellowz\"\n",
    "print(x*5)"
   ]
  },
  {
   "cell_type": "code",
   "execution_count": 103,
   "metadata": {},
   "outputs": [
    {
     "data": {
      "text/plain": [
       "0.6922091748150951"
      ]
     },
     "execution_count": 103,
     "metadata": {},
     "output_type": "execute_result"
    }
   ],
   "source": [
    "random.random() #needs to be imported"
   ]
  },
  {
   "cell_type": "code",
   "execution_count": 104,
   "metadata": {},
   "outputs": [
    {
     "ename": "TypeError",
     "evalue": "unsupported operand type(s) for -: 'str' and 'int'",
     "output_type": "error",
     "traceback": [
      "\u001b[0;31m---------------------------------------------------------------------------\u001b[0m",
      "\u001b[0;31mTypeError\u001b[0m                                 Traceback (most recent call last)",
      "\u001b[0;32m<ipython-input-104-d42edc0a83b5>\u001b[0m in \u001b[0;36m<module>\u001b[0;34m\u001b[0m\n\u001b[0;32m----> 1\u001b[0;31m \u001b[0;34m\"6\"\u001b[0m\u001b[0;34m-\u001b[0m\u001b[0;36m2\u001b[0m \u001b[0;31m#python cannot automatically convert values\u001b[0m\u001b[0;34m\u001b[0m\u001b[0;34m\u001b[0m\u001b[0m\n\u001b[0m",
      "\u001b[0;31mTypeError\u001b[0m: unsupported operand type(s) for -: 'str' and 'int'"
     ]
    }
   ],
   "source": [
    "\"6\"-2 #python cannot automatically convert values"
   ]
  },
  {
   "cell_type": "code",
   "execution_count": null,
   "metadata": {},
   "outputs": [],
   "source": [
    "int(\"6\")-2 #cast into int"
   ]
  },
  {
   "cell_type": "code",
   "execution_count": null,
   "metadata": {},
   "outputs": [],
   "source": [
    "if True:\n",
    "    print(\"This is True\")\n",
    "else:\n",
    "    print(\"This is False\")\n",
    "\n",
    "if False:\n",
    "    print(\"This is True\")\n",
    "else:\n",
    "    print(\"This is False\")"
   ]
  },
  {
   "cell_type": "code",
   "execution_count": null,
   "metadata": {},
   "outputs": [],
   "source": [
    "# Basic Dice Application\n",
    "# randrange returns an integer between 1 and 6\n",
    "\n",
    "dice1=random.randrange(1,6)\n",
    "print(\"The value of dice 1 is \", dice1)\n",
    "\n",
    "dice2=random.randrange(1,6)\n",
    "print(\"The value of dice 2 is \", dice2)\n",
    "\n",
    "dice3=random.randrange(1,6)\n",
    "print(\"The value of dice 3 is \", dice3)\n",
    "\n",
    "dice4=random.randrange(1,6)\n",
    "print(\"The value of dice 4 is \", dice4)\n",
    "\n",
    "dice5=random.randrange(1,6)\n",
    "print(\"The value of dice 5 is \", dice5)\n",
    "\n",
    "sum = dice1 + dice2 + dice3 + dice4 + dice5\n",
    "print(\"Sum: \", sum)"
   ]
  },
  {
   "cell_type": "markdown",
   "metadata": {},
   "source": [
    "MODULE 2"
   ]
  },
  {
   "cell_type": "code",
   "execution_count": null,
   "metadata": {},
   "outputs": [],
   "source": [
    "#if statements require an indented block\n",
    "x=5\n",
    "\n",
    "if x < 10:\n",
    "    print(\"Hellow\")\n",
    "else:\n",
    "    print(\"Bye\")\n",
    "    \n",
    "    \n",
    "#nested ifs require several blocks\n",
    "\n",
    "if x < 10:\n",
    "    if x < 5:\n",
    "        print(\"Less than 5\")\n",
    "    else:\n",
    "        print(\"Greater than 5 but less than 10\")\n",
    "else:\n",
    "    print(\"Greather than 10\")"
   ]
  },
  {
   "cell_type": "code",
   "execution_count": null,
   "metadata": {},
   "outputs": [],
   "source": [
    "sum = 50\n",
    "\n",
    "if sum%2==0: #even\n",
    "    print(\"Even\")\n",
    "else:\n",
    "    print(\"Odd\")\n",
    "    \n",
    "sum=75\n",
    "\n",
    "if sum%2==0: #even\n",
    "    print(\"Even\")\n",
    "else:\n",
    "    print(\"Odd\")"
   ]
  },
  {
   "cell_type": "code",
   "execution_count": null,
   "metadata": {},
   "outputs": [],
   "source": [
    "if sum < 40:\n",
    "    print(\"Less than 40\")\n",
    "elif sum < 80:\n",
    "    print(\"Between 40 and 80\")\n",
    "else:\n",
    "    print(\"Greater than or equal to 80\")"
   ]
  },
  {
   "cell_type": "code",
   "execution_count": null,
   "metadata": {},
   "outputs": [],
   "source": [
    "#Getting user input\n",
    "var=input(\"What is the value of var?\")\n",
    "print(var)"
   ]
  },
  {
   "cell_type": "code",
   "execution_count": null,
   "metadata": {},
   "outputs": [],
   "source": [
    "test = \"Hellow.My name is XOXO.This is my story\\n\"\n",
    "print(test)\n",
    "\n",
    "print(\"--------------\")\n",
    "newString=test.rstrip() #this is useful when taking user input and it happens that the \\n \"enter\" the user enters is part of the variable collected, and that changes its datatype and affects something\n",
    "print(newString)\n",
    "print(\"-------------------\")"
   ]
  },
  {
   "cell_type": "code",
   "execution_count": null,
   "metadata": {},
   "outputs": [],
   "source": [
    "randomNum=random.randrange(100)\n",
    "\n",
    "guessedNumber=input(\"What is the number that was generated?\")\n",
    "guessedNumber = int(guessedNumber) #casting to int \n",
    "\n",
    "if randomNum == guessedNumber:\n",
    "    print(\"Correctly guessed!\")\n",
    "else:\n",
    "    print(\"The number generated was\", randomNum)\n",
    "    print(\"The difference is\", randomNum - guessedNumber)"
   ]
  },
  {
   "cell_type": "code",
   "execution_count": null,
   "metadata": {},
   "outputs": [],
   "source": [
    "#Python compares strings using regular comparison operators\n",
    "\n",
    "if \"A\" > \"z\": #ASCII\n",
    "    print(\"A is greater than z\")\n",
    "else:\n",
    "    print(\"It is not\")\n",
    "\n",
    "print(\"A\" > \"z\", \"A\" == \"z\", \"A\" < \"z\")"
   ]
  },
  {
   "cell_type": "code",
   "execution_count": null,
   "metadata": {},
   "outputs": [],
   "source": [
    "#Logical and (&&) is the 'and' operator\n",
    "#Logical or (||) is the 'or' operator\n",
    "#Notice that True and False must be capitalized\n",
    "# ! is replaced with the not\n",
    "\n",
    "print(True and False)\n",
    "print(True or False)\n",
    "print(not True)"
   ]
  },
  {
   "cell_type": "code",
   "execution_count": null,
   "metadata": {},
   "outputs": [],
   "source": [
    "#Several conditions may be added and combined\n",
    "x=7\n",
    "\n",
    "if x>5 and x<10:\n",
    "    print(\"Between 5 and 10\")\n",
    "    \n",
    "#parenthesis not required\n",
    "if (x>5) and (x<10):\n",
    "    print(\"Between 5 and 10\")"
   ]
  },
  {
   "cell_type": "code",
   "execution_count": null,
   "metadata": {},
   "outputs": [],
   "source": [
    "#You can assign parameters based on certain conditions in a shorthand way\n",
    "\n",
    "a=int(input(\"What is a? \"))\n",
    "b=int(input(\"What is b? \"))\n",
    "#here I am coercing it to int, if the user enters a float I will get an error\n",
    "#casting string to int, if the string is a float, and we cast to int directly, it will throw an error\n",
    "#a=int(float(input(\"What is a? \"))) is the fix\n",
    "\n",
    "x=\"Greater\" if a>b else \"Less\" #shorthand way\n",
    "print(x)"
   ]
  },
  {
   "cell_type": "markdown",
   "metadata": {},
   "source": [
    "Module 3"
   ]
  },
  {
   "cell_type": "code",
   "execution_count": null,
   "metadata": {},
   "outputs": [],
   "source": [
    "#Looping can be done via for and while loops\n",
    "#iteratory\n",
    "# for [tempvariable] in object\n",
    "#can also loop through a string\n",
    "\n",
    "for char in \"Hellowz\":\n",
    "    print(char)"
   ]
  },
  {
   "cell_type": "markdown",
   "metadata": {},
   "source": [
    "for x in range(20): #0 until 19\n",
    "    print(x)"
   ]
  },
  {
   "cell_type": "code",
   "execution_count": null,
   "metadata": {},
   "outputs": [],
   "source": [
    "result=0\n",
    "sum=0\n",
    "min=6\n",
    "max=0\n",
    "\n",
    "for x in range(6):\n",
    "    result = random.randrange(1,6)\n",
    "    sum=sum+result\n",
    "    if result>max:\n",
    "        max=result\n",
    "    if result<min:\n",
    "        min=result\n",
    "    print(\"the die's value is\", result)\n",
    "\n",
    "print(\"sum: \", sum)\n",
    "print(\"max: \", max)\n",
    "print(\"min: \", min)"
   ]
  },
  {
   "cell_type": "code",
   "execution_count": null,
   "metadata": {},
   "outputs": [],
   "source": [
    "#while loop\n",
    "\n",
    "x=0\n",
    "\n",
    "while True: #infinite loop\n",
    "    x=x+1\n",
    "    print(\"checking the value of \", x)\n",
    "    if x==2:\n",
    "        x=x+1\n",
    "        print(\"Skipping an extra step\")\n",
    "        continue\n",
    "    if x==5:\n",
    "        print(x)\n",
    "        break"
   ]
  },
  {
   "cell_type": "code",
   "execution_count": null,
   "metadata": {},
   "outputs": [],
   "source": [
    "#to exit any py script\n",
    "exit()"
   ]
  },
  {
   "cell_type": "code",
   "execution_count": null,
   "metadata": {},
   "outputs": [],
   "source": [
    "#to check for the presence of a substring\n",
    "\n",
    "if \"in\" in \"Maxinger\":\n",
    "    print(\"Found\")\n",
    "else:\n",
    "    print(\"Not found\")"
   ]
  },
  {
   "cell_type": "code",
   "execution_count": null,
   "metadata": {},
   "outputs": [],
   "source": [
    "#.index() and .find() can be called to find the index of a character\n",
    "#index returns -1 if not found + error\n",
    "#find just returns -1\n",
    "#rindex same as index but starts searching from the right\n",
    "#if I know my variable is to the right it saves me time\n",
    "\n",
    "print(\"Hellowz\".index(\"ll\"))\n",
    "print(\"Hellowz\".find(\"sad\"))"
   ]
  },
  {
   "cell_type": "code",
   "execution_count": null,
   "metadata": {},
   "outputs": [],
   "source": [
    "#Printing formatted text via the % operator\n",
    "#multiple variables are passed using tuples (var1, var2) --> discussed later\n",
    "\n",
    "print(\"Hello, my name is %s. I am %d years old\" % (\"Ralph\", 24))"
   ]
  },
  {
   "cell_type": "markdown",
   "metadata": {},
   "source": [
    "Module 4"
   ]
  },
  {
   "cell_type": "code",
   "execution_count": null,
   "metadata": {},
   "outputs": [],
   "source": [
    "#differences between list and array\n",
    "#lists can contain different types, arrays can contain only one type\n",
    "\n",
    "#tuples can contain any kind of variable\n",
    "\n",
    "l=(\"test\", 123, (\"Hellow\", 555))\n",
    "print(l)\n",
    "#indeces start at 0\n",
    "print(l[0])\n",
    "print(l[0:2]) #last value not inclusive\n",
    "print(l[0:3])"
   ]
  },
  {
   "cell_type": "code",
   "execution_count": null,
   "metadata": {},
   "outputs": [],
   "source": [
    "#slicing\n",
    "#a list may be sliced according to indeces\n",
    "print(l[-2])"
   ]
  },
  {
   "cell_type": "code",
   "execution_count": null,
   "metadata": {},
   "outputs": [],
   "source": [
    "print(l[1:]) #1 till the end"
   ]
  },
  {
   "cell_type": "code",
   "execution_count": null,
   "metadata": {},
   "outputs": [],
   "source": [
    "print(l[:2]) #start until 1"
   ]
  },
  {
   "cell_type": "code",
   "execution_count": null,
   "metadata": {},
   "outputs": [],
   "source": [
    "#getting the length\n",
    "print(len(l))"
   ]
  },
  {
   "cell_type": "code",
   "execution_count": null,
   "metadata": {},
   "outputs": [],
   "source": [
    "#once values are assigned they cannot be changed in TUPLES\n",
    "l[0]=2"
   ]
  },
  {
   "cell_type": "code",
   "execution_count": null,
   "metadata": {},
   "outputs": [],
   "source": [
    "#concatenation can be performed on lists\n",
    "print((1,2,3) + (4,5,6))"
   ]
  },
  {
   "cell_type": "code",
   "execution_count": null,
   "metadata": {},
   "outputs": [],
   "source": [
    "#can also use multiplication to repeat elements\n",
    "print((\"Repeat\",)*3)"
   ]
  },
  {
   "cell_type": "code",
   "execution_count": null,
   "metadata": {},
   "outputs": [],
   "source": [
    "#PARENTHESIS: TUPLES\n",
    "#BRACKETS: LISTS\n",
    "\n",
    "numbers=(1,2,3,4,5,6,7,8,9,10)\n",
    "#can programmatically create a tuple from a list/array using the tuple function\n",
    "#range function returns a list / array\n",
    "\n",
    "numbers2=tuple(range(1,11))\n",
    "print(numbers, numbers2)"
   ]
  },
  {
   "cell_type": "code",
   "execution_count": null,
   "metadata": {},
   "outputs": [],
   "source": [
    "#get all odd and even numbers\n",
    "## These are stored in a new type of data structure called the generator class\n",
    "\n",
    "oddNumbers=(x for x in numbers if x%2==1)\n",
    "evenNumbers=(x for x in numbers if x%2==0)\n",
    "\n",
    "print(\"Odd: \")\n",
    "for x in oddNumbers:\n",
    "    print(x)\n",
    "    \n",
    "print(\"Even: \")\n",
    "for x in evenNumbers:\n",
    "    print(x)"
   ]
  },
  {
   "cell_type": "code",
   "execution_count": null,
   "metadata": {},
   "outputs": [],
   "source": [
    "#creating lists\n",
    "oddNumbers= [x for x in numbers if x%2==1]\n",
    "evenNumbers= [x for x in numbers if x%2==0]\n",
    "\n",
    "print(\"Odd\", oddNumbers, \"Even\", evenNumbers)"
   ]
  },
  {
   "cell_type": "code",
   "execution_count": null,
   "metadata": {},
   "outputs": [],
   "source": [
    "listarray=[0,1,2,3,4,5,\"Hi\"]\n",
    "print(listarray)"
   ]
  },
  {
   "cell_type": "code",
   "execution_count": null,
   "metadata": {},
   "outputs": [],
   "source": [
    "#some data structures can be converted to lists using the list() function\n",
    "l2=list(\"TESTING\")\n",
    "print(l2)"
   ]
  },
  {
   "cell_type": "code",
   "execution_count": null,
   "metadata": {},
   "outputs": [],
   "source": [
    "#other data structures may call TypeError\n",
    "l3=list(123123)"
   ]
  },
  {
   "cell_type": "code",
   "execution_count": null,
   "metadata": {},
   "outputs": [],
   "source": [
    "#the append() function adds 2 lists together\n",
    "\n",
    "listarray.append(\"List\")\n",
    "print(listarray)"
   ]
  },
  {
   "cell_type": "code",
   "execution_count": null,
   "metadata": {},
   "outputs": [],
   "source": [
    "#replacing an element in a list is possible\n",
    "print(listarray[1])\n",
    "listarray[1]=\"New Value\"\n",
    "print(listarray)"
   ]
  },
  {
   "cell_type": "code",
   "execution_count": null,
   "metadata": {},
   "outputs": [],
   "source": [
    "#accessing range\n",
    "listarray[2:4]"
   ]
  },
  {
   "cell_type": "code",
   "execution_count": null,
   "metadata": {},
   "outputs": [],
   "source": [
    "#for list manipulation\n",
    "listarray.reverse()\n",
    "print(listarray)"
   ]
  },
  {
   "cell_type": "code",
   "execution_count": null,
   "metadata": {},
   "outputs": [],
   "source": [
    "#removing an element from a list using an index: pop(index) --> returns value\n",
    "#removing the first occurence of a value: remove(value) --> doesn't return value\n",
    "\n",
    "print(listarray.pop(1)) #pop saves space in loops if I don't need the element again #batch looping for big data\n",
    "print(listarray.remove(\"New Value\"))\n",
    "\n",
    "#reprinting\n",
    "print(listarray)\n"
   ]
  },
  {
   "cell_type": "code",
   "execution_count": null,
   "metadata": {},
   "outputs": [],
   "source": [
    "#lists have built-in sorting function\n",
    "#only works if all data types are the same\n",
    "print(listarray.sort())"
   ]
  },
  {
   "cell_type": "code",
   "execution_count": null,
   "metadata": {},
   "outputs": [],
   "source": [
    "array2=['a','d','b','e']\n",
    "array2.sort()\n",
    "print(array2)"
   ]
  },
  {
   "cell_type": "code",
   "execution_count": null,
   "metadata": {},
   "outputs": [],
   "source": [
    "names = [\"George\", \"Tony\", \"Maria\", \"Joseph\", \"Rami\"]\n",
    "names.sort()\n",
    "print(names)"
   ]
  },
  {
   "cell_type": "code",
   "execution_count": null,
   "metadata": {},
   "outputs": [],
   "source": [
    "#split splits string, need to pass delimiter\n",
    "\"Hello, my name is Joseph. This is a test\".split(\" \")\n",
    "#split splits according to delimiter\n",
    "\n",
    "#list() splits chars\n",
    "li=list(\"Hello, my name is Joseph. This is a test\")\n",
    "print(li)"
   ]
  },
  {
   "cell_type": "code",
   "execution_count": null,
   "metadata": {},
   "outputs": [],
   "source": [
    "Audios = [\"Title1 1999 Artist1\"]\n",
    "Audios = Audios + [\"Title2 2000 Artist2\"]\n",
    "Audios.append(\"Title3 2001 Artist3\")\n",
    "Audios.append(\"Title4 2002 Artist4\")\n",
    "Audios.append(\"Title5 2003 Artist5\")"
   ]
  },
  {
   "cell_type": "code",
   "execution_count": null,
   "metadata": {},
   "outputs": [],
   "source": [
    "Audios"
   ]
  },
  {
   "cell_type": "code",
   "execution_count": null,
   "metadata": {},
   "outputs": [],
   "source": [
    "for entry in Audios:\n",
    "    result = entry.split(\" \")\n",
    "    print(\"Title:\", result[0])\n",
    "    print(\"Release Date:\", result[1])\n",
    "    print(\"Artist:\", result[2])"
   ]
  },
  {
   "cell_type": "code",
   "execution_count": null,
   "metadata": {},
   "outputs": [],
   "source": [
    "# Accessing the index using the enumerate function\n",
    "# BE careful to force the int to become an str using the str function \n",
    "for index, entry in enumerate(Audios): #enumerate\n",
    "    result = entry.split(\" \")\n",
    "    print(\"Entry number \"+ str(index), \"Title:\", result[0], \"Release Date:\", result[1], \"Artist:\", result[2])\n"
   ]
  },
  {
   "cell_type": "markdown",
   "metadata": {},
   "source": [
    "Module 5"
   ]
  },
  {
   "cell_type": "code",
   "execution_count": null,
   "metadata": {},
   "outputs": [],
   "source": [
    "#You can use the join function\n",
    "#function of the string that takes the list as a parameter\n",
    "#the separator is the string upon which you call the function\n",
    "\n",
    "\" \".join([\"Hello\",\"this\",\"is\",\"a\",\"test\"])"
   ]
  },
  {
   "cell_type": "code",
   "execution_count": null,
   "metadata": {},
   "outputs": [],
   "source": [
    "#integers must be converted to strings for the concat to work\n",
    "numbers=[str(x) for x in range(0,11)]\n",
    "\n",
    "print(\"Correct:\",\"-\".join(numbers))"
   ]
  },
  {
   "cell_type": "code",
   "execution_count": null,
   "metadata": {},
   "outputs": [],
   "source": [
    "#otherwise\n",
    "incorrectFormat = [x for x in range(0, 11)] \n",
    "print(\"Incorrect:\", \"-\".join (str(incorrectFormat)))"
   ]
  },
  {
   "cell_type": "code",
   "execution_count": null,
   "metadata": {},
   "outputs": [],
   "source": [
    "l = list(\"This is a test\")\n",
    "l.reverse()\n",
    "\"-\".join(l)"
   ]
  },
  {
   "cell_type": "code",
   "execution_count": null,
   "metadata": {},
   "outputs": [],
   "source": [
    "#dictionaries\n",
    "#very powerful\n",
    "#key, value pairs\n",
    "dic = {'a': 2,\n",
    "        'b': 3,\n",
    "        'c': 4 }"
   ]
  },
  {
   "cell_type": "code",
   "execution_count": null,
   "metadata": {},
   "outputs": [],
   "source": [
    "#access values through the key\n",
    "dic['a']"
   ]
  },
  {
   "cell_type": "code",
   "execution_count": null,
   "metadata": {},
   "outputs": [],
   "source": [
    "#you can also add or modify\n",
    "dic['a']=6\n",
    "dic['newDic']='Hellow' #adding a new element\n",
    "print(dic)"
   ]
  },
  {
   "cell_type": "code",
   "execution_count": null,
   "metadata": {},
   "outputs": [],
   "source": [
    "addressBook = {}\n",
    "addressBook['Rami'] = \"Koura\"\n",
    "addressBook['Joseph'] = \"Daraya\"\n",
    "addressBook['Maria'] = \"Sahel Alma\"\n",
    "\n",
    "x=input(\"Who are you looking for?\")\n",
    "print(addressBook[x])"
   ]
  },
  {
   "cell_type": "code",
   "execution_count": null,
   "metadata": {},
   "outputs": [],
   "source": [
    "# To get the keys we use a classical loop \n",
    "for x in addressBook:\n",
    "    print(x, \":\", addressBook[x])"
   ]
  },
  {
   "cell_type": "code",
   "execution_count": null,
   "metadata": {},
   "outputs": [],
   "source": [
    "# To get the keys and values in the same loop \n",
    "# We need to use the .items() function\n",
    "for key, value in addressBook.items():\n",
    "    print(key, value)"
   ]
  },
  {
   "cell_type": "code",
   "execution_count": null,
   "metadata": {},
   "outputs": [],
   "source": [
    "# Order is maintained based on the same order of addition\n",
    "# Sorting it uses the OrderedDictionary\n",
    "# http://docs.python.org/library/collections.html#collections.OrderedDict#\n",
    "\n",
    "# Removing values is done via the .pop() function \n",
    "# True is printed if found and removed\n",
    "# Otherwise a key error is called\n",
    "\n",
    "print(addressBook.pop(\"Rami\"))\n",
    "print(addressBook.pop(\"N/A\"))"
   ]
  },
  {
   "cell_type": "code",
   "execution_count": null,
   "metadata": {},
   "outputs": [],
   "source": [
    "# Fix the above error we use the 'if in' operators \n",
    "if \"N/A\" in addressBook: #checking the keys\n",
    "    print(\"Exists\") \n",
    "else:\n",
    "    print(\"Does not Exist\")"
   ]
  },
  {
   "cell_type": "code",
   "execution_count": null,
   "metadata": {},
   "outputs": [],
   "source": [
    "# To find common keys, we have to tranform it into a set\n",
    "myRDP = { 'Actinobacter': 'GATCGA...TCA', 'subtilus sp.': 'ATCGATT...ACT' } \n",
    "myNames = { 'Actinobacter': '8924342' }\n",
    "\n",
    "rdpSet = set(myRDP)\n",
    "namesSet = set(myNames)\n",
    "\n",
    "#myRDP[\"Homosapiens\"] = \"ATCTA...TGA\"\n",
    "#myRDP\n",
    "#del(myRDP[\"Homosapiens\"])\n",
    "#myRDP\n",
    "\n",
    "#looking for common entries in two different dictionaries\n",
    "#this helps if we want to look for accession numbers across different datasets\n",
    "\n",
    "for name in rdpSet.intersection(namesSet): \n",
    "    print(name, myNames[name])\n",
    "    print(name, myRDP[name])"
   ]
  },
  {
   "cell_type": "code",
   "execution_count": null,
   "metadata": {},
   "outputs": [],
   "source": [
    "# Or use a classical loop approach like the next example\n",
    "#if Array2 is larger than Array1, results will be misleading\n",
    "#Prior way is better\n",
    "\n",
    "Array1 = [0, 1, 2, 3, 4, 5]\n",
    "Array2 = [0, 2, 4, 5]\n",
    "for x in Array1:\n",
    "    if x in Array2:\n",
    "        print(x, \"Exists in both Arrays\") \n",
    "    else:\n",
    "        print(x, \"Doesn't exist in Array2\")"
   ]
  },
  {
   "cell_type": "markdown",
   "metadata": {},
   "source": [
    "Module 6"
   ]
  },
  {
   "cell_type": "code",
   "execution_count": 115,
   "metadata": {},
   "outputs": [],
   "source": [
    "# Working with files are easy with the open(filename, mode) function\n",
    "# The mode indicates, how the file is going to be opened \"r\" for reading, \n",
    "# \"w\" for writing and \n",
    "#\"a\" for a appending.\n",
    "# By default r is chosen\n",
    "\n",
    "f=open(\"Test.txt\")\n",
    "#f=open(\"Test.txt\", \"w\")\n",
    "\n",
    "# In order to avoid problems with directories (Cross-platform dependency),\n",
    "# you can use the os.path.join\n",
    "# However, this requires you to import the os module\n",
    "\n",
    "cwd=os.getcwd()\n",
    "targetFile=os.path.join(cwd, \"Test2.txt\")\n",
    "f2=open(targetFile, \"a\")"
   ]
  },
  {
   "cell_type": "code",
   "execution_count": 116,
   "metadata": {},
   "outputs": [],
   "source": [
    "#os.getcwd() to get the current working directory"
   ]
  },
  {
   "cell_type": "code",
   "execution_count": 117,
   "metadata": {},
   "outputs": [
    {
     "name": "stdout",
     "output_type": "stream",
     "text": [
      "Line 1 testing\n",
      "faf aoijapojf\n",
      "afnkj2 eigeglwrj wgg, wga\n",
      "lalalala\n"
     ]
    }
   ],
   "source": [
    " # Accessing the file's data is done via looping or using the read(), readLine(), \n",
    "    # or readLines() functions\n",
    "    \n",
    "for line in f: \n",
    "    print(line.strip()) #strip to remove carriage returns\n",
    "#we looped through the entire file, now we need to close and reopen if we want to use it again\n",
    "f.close()\n",
    "\n",
    "# readlines wil return a list of all the lines\n",
    "# readLine will return the next line\n",
    "# read will return one big string with everything"
   ]
  },
  {
   "cell_type": "code",
   "execution_count": 118,
   "metadata": {},
   "outputs": [
    {
     "data": {
      "text/plain": [
       "['Line 1 testing\\n',\n",
       " 'faf aoijapojf\\n',\n",
       " 'afnkj2 eigeglwrj wgg, wga\\n',\n",
       " 'lalalala']"
      ]
     },
     "execution_count": 118,
     "metadata": {},
     "output_type": "execute_result"
    }
   ],
   "source": [
    "f=open(\"Test.txt\")\n",
    "line_test=f.readlines()\n",
    "line_test\n",
    "#f.close()"
   ]
  },
  {
   "cell_type": "code",
   "execution_count": 119,
   "metadata": {},
   "outputs": [
    {
     "data": {
      "text/plain": [
       "'Line 1 testing\\n'"
      ]
     },
     "execution_count": 119,
     "metadata": {},
     "output_type": "execute_result"
    }
   ],
   "source": [
    "f=open(\"Test.txt\")\n",
    "line_test=f.readline()\n",
    "line_test"
   ]
  },
  {
   "cell_type": "code",
   "execution_count": 120,
   "metadata": {},
   "outputs": [
    {
     "data": {
      "text/plain": [
       "'faf aoijapojf\\n'"
      ]
     },
     "execution_count": 120,
     "metadata": {},
     "output_type": "execute_result"
    }
   ],
   "source": [
    "line_test=f.readline()\n",
    "line_test"
   ]
  },
  {
   "cell_type": "code",
   "execution_count": 121,
   "metadata": {},
   "outputs": [],
   "source": [
    "f.close()"
   ]
  },
  {
   "cell_type": "code",
   "execution_count": 122,
   "metadata": {},
   "outputs": [
    {
     "data": {
      "text/plain": [
       "'Line 1 testing\\nfaf aoijapojf\\nafnkj2 eigeglwrj wgg, wga\\nlalalala'"
      ]
     },
     "execution_count": 122,
     "metadata": {},
     "output_type": "execute_result"
    }
   ],
   "source": [
    "f=open(\"Test.txt\")\n",
    "line_test=f.read()\n",
    "line_test"
   ]
  },
  {
   "cell_type": "code",
   "execution_count": 123,
   "metadata": {},
   "outputs": [],
   "source": [
    "f.close()"
   ]
  },
  {
   "cell_type": "code",
   "execution_count": 124,
   "metadata": {},
   "outputs": [],
   "source": [
    "# Writing to a file is done via the write() function\n",
    "# writelines will write a list of lines\n",
    "# if the file was opened with the a flag, then the data is appended \n",
    "# Otherwise, it is overwriten\n",
    "\n",
    "f2.write(\"Appended data\")\n",
    "# Closing the file is required for teh changes to be saved\n",
    "f2.close()"
   ]
  },
  {
   "cell_type": "code",
   "execution_count": 126,
   "metadata": {},
   "outputs": [
    {
     "name": "stdout",
     "output_type": "stream",
     "text": [
      "Test2 file\n",
      "\n",
      "Line 1 testing\n",
      "\n",
      "faf aoijapojf\n",
      "\n",
      "afnkj2 eigeglwrj wgg, wga\n",
      "\n",
      "lalalalaAppended dataAppended dataAppended data\n"
     ]
    }
   ],
   "source": [
    "targetFile = os.path.join(cwd, \"Test2.txt\")\n",
    "f2=open(targetFile, \"r\")\n",
    "lines=f2.readlines()\n",
    "for x in lines:\n",
    "    print(x)"
   ]
  },
  {
   "cell_type": "code",
   "execution_count": 128,
   "metadata": {},
   "outputs": [
    {
     "name": "stdout",
     "output_type": "stream",
     "text": [
      "gnitset 1 eniL\n",
      "fjopajioa faf\n",
      "agw ,ggw jrwlgegie 2jknfa\n",
      "alalalal\n"
     ]
    }
   ],
   "source": [
    "f = open(\"Test.txt\")\n",
    "lines = f.readlines() #convert line into list\n",
    "for x in lines:\n",
    "    x=x.strip()\n",
    "    tempLine = list(x)\n",
    "    tempLine.reverse()\n",
    "    print(\"\".join(tempLine))"
   ]
  },
  {
   "cell_type": "code",
   "execution_count": 129,
   "metadata": {},
   "outputs": [
    {
     "ename": "SystemExit",
     "evalue": "",
     "output_type": "error",
     "traceback": [
      "An exception has occurred, use %tb to see the full traceback.\n",
      "\u001b[0;31mSystemExit\u001b[0m\n"
     ]
    },
    {
     "name": "stderr",
     "output_type": "stream",
     "text": [
      "/Users/piachouaifaty/opt/anaconda3/lib/python3.8/site-packages/IPython/core/interactiveshell.py:3426: UserWarning: To exit: use 'exit', 'quit', or Ctrl-D.\n",
      "  warn(\"To exit: use 'exit', 'quit', or Ctrl-D.\", stacklevel=1)\n"
     ]
    }
   ],
   "source": [
    "# The die function is sys.exit() \n",
    "import sys\n",
    "sys.exit()"
   ]
  },
  {
   "cell_type": "code",
   "execution_count": 130,
   "metadata": {},
   "outputs": [
    {
     "name": "stdout",
     "output_type": "stream",
     "text": [
      "An error has occured\n"
     ]
    }
   ],
   "source": [
    "#try and catch statements to handle file errors\n",
    "\n",
    "try: \n",
    "    open(\"FileDoesntExist.txt\")\n",
    "except:\n",
    "    print(\"An error has occured\")"
   ]
  },
  {
   "cell_type": "code",
   "execution_count": 131,
   "metadata": {},
   "outputs": [
    {
     "data": {
      "text/plain": [
       "b'Line 1 testing\\nfaf aoijapojf\\nafnkj2 eigeglwrj wgg, wga\\nlalalala'"
      ]
     },
     "execution_count": 131,
     "metadata": {},
     "output_type": "execute_result"
    }
   ],
   "source": [
    "# To open a binary file, an rb flag should be used #BAM files, binary files\n",
    "f = open(\"Test.txt\", \"rb\")\n",
    "f.read()"
   ]
  },
  {
   "cell_type": "code",
   "execution_count": 132,
   "metadata": {},
   "outputs": [
    {
     "name": "stdout",
     "output_type": "stream",
     "text": [
      "Directory  TestDirectory  Created \n"
     ]
    }
   ],
   "source": [
    "# Creating a directory is done via the os.mkdir command\n",
    "dirName = \"TestDirectory\"\n",
    "# Check if the directory doesn't exist \n",
    "if not os.path.exists(dirName):\n",
    "    os.mkdir(dirName)\n",
    "    print(\"Directory \" , dirName , \" Created \") \n",
    "else:\n",
    "    print(\"Directory \" , dirName ,  \" already exists\")"
   ]
  },
  {
   "cell_type": "code",
   "execution_count": 133,
   "metadata": {},
   "outputs": [
    {
     "name": "stdout",
     "output_type": "stream",
     "text": [
      "Directory  TestDirectory  already exists\n"
     ]
    }
   ],
   "source": [
    "# Creating it again\n",
    "dirName = \"TestDirectory\"\n",
    "# Check if the directory doesn't exist \n",
    "if not os.path.exists(dirName):\n",
    "    os.mkdir(dirName)\n",
    "    print(\"Directory \" , dirName , \" Created \") \n",
    "else:\n",
    "    print(\"Directory \" , dirName ,  \" already exists\")"
   ]
  },
  {
   "cell_type": "code",
   "execution_count": 134,
   "metadata": {},
   "outputs": [
    {
     "ename": "FileNotFoundError",
     "evalue": "[Errno 2] No such file or directory: 'C:\\\\Users\\\\josep_000\\\\'",
     "output_type": "error",
     "traceback": [
      "\u001b[0;31m---------------------------------------------------------------------------\u001b[0m",
      "\u001b[0;31mFileNotFoundError\u001b[0m                         Traceback (most recent call last)",
      "\u001b[0;32m<ipython-input-134-522f5d1295f9>\u001b[0m in \u001b[0;36m<module>\u001b[0;34m\u001b[0m\n\u001b[1;32m      1\u001b[0m \u001b[0;31m# Note the double slashes are required to escape them and make them literals\u001b[0m\u001b[0;34m\u001b[0m\u001b[0;34m\u001b[0m\u001b[0;34m\u001b[0m\u001b[0m\n\u001b[0;32m----> 2\u001b[0;31m \u001b[0mos\u001b[0m\u001b[0;34m.\u001b[0m\u001b[0mchdir\u001b[0m\u001b[0;34m(\u001b[0m\u001b[0;34m'C:\\\\Users\\\\josep_000\\\\'\u001b[0m\u001b[0;34m)\u001b[0m\u001b[0;34m\u001b[0m\u001b[0;34m\u001b[0m\u001b[0m\n\u001b[0m\u001b[1;32m      3\u001b[0m \u001b[0;34m\u001b[0m\u001b[0m\n\u001b[1;32m      4\u001b[0m \u001b[0;31m# Gettign the current directory is done via the os.getcwd\u001b[0m\u001b[0;34m\u001b[0m\u001b[0;34m\u001b[0m\u001b[0;34m\u001b[0m\u001b[0m\n\u001b[1;32m      5\u001b[0m \u001b[0mprint\u001b[0m\u001b[0;34m(\u001b[0m\u001b[0mos\u001b[0m\u001b[0;34m.\u001b[0m\u001b[0mgetcwd\u001b[0m\u001b[0;34m(\u001b[0m\u001b[0;34m)\u001b[0m\u001b[0;34m)\u001b[0m\u001b[0;34m\u001b[0m\u001b[0;34m\u001b[0m\u001b[0m\n",
      "\u001b[0;31mFileNotFoundError\u001b[0m: [Errno 2] No such file or directory: 'C:\\\\Users\\\\josep_000\\\\'"
     ]
    }
   ],
   "source": [
    "# Note the double slashes are required to escape them and make them literals \n",
    "os.chdir('C:\\\\Users\\\\josep_000\\\\')\n",
    "\n",
    "# Gettign the current directory is done via the os.getcwd\n",
    "print(os.getcwd())\n",
    "\n",
    "# Changing the directory is done via the os.chdir()\n",
    "os.chdir('C:\\\\') \n",
    "print(os.getcwd())"
   ]
  },
  {
   "cell_type": "markdown",
   "metadata": {},
   "source": [
    "Module 7"
   ]
  },
  {
   "cell_type": "code",
   "execution_count": null,
   "metadata": {},
   "outputs": [],
   "source": [
    "#functions\n"
   ]
  }
 ],
 "metadata": {
  "kernelspec": {
   "display_name": "Python 3",
   "language": "python",
   "name": "python3"
  },
  "language_info": {
   "codemirror_mode": {
    "name": "ipython",
    "version": 3
   },
   "file_extension": ".py",
   "mimetype": "text/x-python",
   "name": "python",
   "nbconvert_exporter": "python",
   "pygments_lexer": "ipython3",
   "version": "3.8.5"
  }
 },
 "nbformat": 4,
 "nbformat_minor": 4
}
